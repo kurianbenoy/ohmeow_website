{
  "nbformat": 4,
  "nbformat_minor": 0,
  "metadata": {
    "colab": {
      "name": "2020-11-06-ajtfb-chapter-1.ipynb",
      "provenance": [],
      "private_outputs": true,
      "collapsed_sections": [],
      "authorship_tag": "ABX9TyP38H7vHIQMXCqduvS/EQ5k"
    },
    "kernelspec": {
      "name": "python3",
      "display_name": "Python 3"
    },
    "accelerator": "GPU"
  },
  "cells": [
    {
      "cell_type": "markdown",
      "metadata": {
        "id": "sWJL4-Qwluy4"
      },
      "source": [
        "# \"A Journey Through Fastbook (AJTFB) - Chapter 1: The Basics of Deep Learning\"\n",
        "> \"The first in a weekly-ish series where I revisit the fast.ai book, [\\\"Deep Learning for Coders with fastai & PyTorch\\\"](https://github.com/fastai/fastbook), and provide commentary on the bits that jumped out to me chapter by chapter.  So without further adieu, let's go!\"\n",
        "\n",
        "- toc: true\n",
        "- branch: master\n",
        "- badges: true\n",
        "- hide_binder_badge: true\n",
        "- comments: true\n",
        "- author: Wayde Gilliam\n",
        "- categories: [fastai, fastbook]\n",
        "- image: images/articles/fastbook.jpg\n",
        "- hide: false\n",
        "- search_exclude: false"
      ]
    },
    {
      "cell_type": "code",
      "source": [
        "#hide\n",
        "! pip install fastai -Uqq\n",
        "\n",
        "import matplotlib.pyplot as plt\n",
        "import numpy as np\n",
        "import pandas as pd\n",
        "import seaborn as sns\n",
        "\n",
        "from sklearn import datasets\n",
        "from sklearn import manifold\n",
        "\n",
        "from fastai.vision.all import *\n",
        "\n",
        "%matplotlib inline"
      ],
      "metadata": {
        "id": "CF_vKG_2F1zZ"
      },
      "execution_count": null,
      "outputs": []
    },
    {
      "cell_type": "markdown",
      "metadata": {
        "id": "WfcRNESotGLU"
      },
      "source": [
        "Cervantes once wrote that \"the journey is better than the inn\", but I rather like to think that the journey *is* the inn.  \n",
        "\n",
        "It means that the journey, irrespective to its difficulties (and likely because of them), is what you look back on with fondness at its end rather than the end itself.  It's why I enjoy reading \"The Lord of the Rings\" every five years or so, where as I age and experience the hand life has dealt me, I find myself appreciating different aspects of the story from the time before and gaining new insights into what I value and want to be as a human being. I find my journey with deep learning to be roughly analgous to that. \n",
        "\n",
        "I've been a part of [the fast.ai community](https://forums.fast.ai/u/wgpubs/summary) for several years. I've been through [the course](https://course.fast.ai/) multiple times (since it was using theano back in the old days), I've contributed to the library, and use it as the basis for one of [my own](https://ohmeow.github.io/blurr/).  And as with each course, with a re-reading of the book I find myself deriving new insights and appreciating different ideas than those I had before.\n",
        "\n",
        "And so, while your journey may bring you different revelations, here are the meandering thoughts of one 49 year old married father of 3 living in San Diego, California, USA, as I embark upon the first chapter in what I consider \"The Lord of the Rings\" of deep learning."
      ]
    },
    {
      "cell_type": "markdown",
      "source": [
        "---\n",
        "## How to learn Deep Learning\n",
        "\n",
        "### You can do this!\n",
        "> Hi, everybody; I'm Jeremy ... I do not have any formal technical education ... didn't have great grades.\n",
        "> I was much more interested in doing real projects.\n",
        "\n",
        "This is meaningful to me as someone with a BA in History and a MA in Theology. It's a reminder that if you want something, it's within your grasp to make it happen if you are willing to put in the work. It's also a reminder that key to getting there is actually doing something!  If find too many people thinking that if they just get into that school, or if they can just take that class, then they'll be a good software enginner or deep learning practitioner.  The reality is that the *only* way you get there is by doing it ... just like pull-ups (which aren't much fun when you're starting out and/or you're 49 and overweight).\n",
        "\n",
        "### The problem with traditional education\n",
        "> ... how math is taught - we require students to spend years doing rote memorization and learning dry\n",
        "> disconnected *fundatmentals* that we claim will pay off later, long after most of them quit the subject.\n",
        "\n",
        "This also is the problem with higher education in general, where young people spend at least four to five years learning things they already learned in High School or else things they don't really care about and will be forgotten right after finals, spending in excess of $100,000 for the privilege of it and likely going into debt in the tens of thousands of dollars, all with this idea that having done it they will be prepared for the real world.  Unfortunately, that's not how it works. Whether you are in a university of even go to university, what matter is what you do ... not what classes you took or what your GPA is.\n",
        "\n",
        "### Deep Learning (and coding in general) is an art maybe more so than a science\n",
        "> The hardest part of deep learning is artisanal.\n",
        "\n",
        "I remember going to an iOS conference way back in the day and a conference speaker asking how many folks in the session I was sitting in had a background in music. 80-90% of the audience raised their hands.  Sure, there is math and stats and a science to deep learning, but like any coding enterprise, it's an art ... with some artists being better than others along with room for improvement regardless of whether you're Van Gough or painting by the numbers.\n",
        "\n",
        "### Doing is how you learn, and what you've done is what matters\n",
        "> ... focus on your hobbies and passions ... Common character traits in the people who do well at deep learning include playfulness and curiosity.\n",
        "\n",
        "> at Tesla .. CEO Elon Musk says 'A PhD is definitely not required. All that matters is a deep understanding of AI & ability to implement NNs in a way that is actually useful .... Don't care if you even graduated High School.'\n",
        "\n",
        "> ... the most important thing for learning deep learning is writing code and experimenting.\"\n",
        "\n",
        "### Folks to follow\n",
        "\n",
        "It's always helpful to have some role models; folks who practice the lessons learned above and can help you along your journey.\n",
        "\n",
        "For starters, consider this image of the top 12 users based on most likes in the fast.ai forums:\n",
        "![](https://github.com/ohmeow/ohmeow_website/blob/master/images/articles/20211102-fastai-forums-top-12.png?raw=1)\n",
        "\n",
        "Aside from the founders of [fast.ai](https://www.fast.ai/) and a bunch of them working for noteable ML companies like [Hugging Face](https://huggingface.co/) and [Weights & Biases](https://wandb.ai/site), I can think of at least ***FOUR*** things these folks have in common:\n",
        "\n",
        "1. They are **fearless in asking what they may have even considered, dumb questions**.\n",
        "\n",
        "2. They are **active in researching the answers to their own questions** (even the dumb ones) and those asked by others.\n",
        "\n",
        "3. They are **active in teaching** others through blogs, books, open source libraries, study groups, and podcasts.\n",
        "\n",
        "4. **They build** things! That is, they all have experience building models and making them usable via deployed applications and/or in kaggle compeititions.  Anyone can bake a half-cooked model in a Jupyter notebook, but few can turn it into something others can use.\n",
        "\n",
        "These traits aren't just key to learning deep learning; they are key to learning anything!  Practice them and you guarantee yourself success in learning anything you've set your mind on.\n",
        "\n",
        "If you had to choose just three ...\n",
        "\n",
        "Aside from Jeremy ([@jeremyphoward](https://twitter.com/jeremyphoward)), who's a given, if I could only follow three people who have mastered to art of learning deep learning, they would be ...\n",
        "\n",
        "**Radek Osmulsk**: (twitter: [@radekosmulski](https://twitter.com/radekosmulski))\n",
        "> twitter: https://twitter.com/radekosmulski/status/1455527697661169664\n",
        "\n",
        "\n",
        "**Zach Mueller**: (twitter: [@TheZachMueller](https://twitter.com/TheZachMueller))\n",
        "> twitter: https://twitter.com/TheZachMueller/status/1451941577841127433\n",
        "\n",
        "\n",
        "**Sanyam Bhutani**: (twitter: [@bhutanisanyam1](https://twitter.com/bhutanisanyam1))\n",
        "> twitter: https://twitter.com/bhutanisanyam1/status/1452599997493481472\n",
        "\n",
        "\n",
        "Personally, I **do** follow each of these individuals on twitter and you should too! Though I've never met any of them IRL, I consider the colleagues, friends, and amongst the most helpful for those looking to get started in machine learning.\n",
        "\n",
        "> Tip: Twitter is imo the best place to network with fellow ML/DL practioners and stay up-to-date with the latest developments in ML in general\n",
        "\n",
        "\n",
        "Here's a tl;dr for folks too lazy to read the above ...\n",
        "\n",
        "youtube: https://youtu.be/_QUEXsHfsA0?t=935"
      ],
      "metadata": {
        "id": "Ybv2mngM__m8"
      }
    },
    {
      "cell_type": "markdown",
      "source": [
        "---\n",
        "## What is machine learning?\n",
        "\n",
        "Here we look at machine learning in general (of which deep learning is a subset) as well as the process of finetuning a pretrained ML model.  When you think of deep learning ... think neural networks.\n",
        "\n",
        "![](https://raw.githubusercontent.com/ohmeow/ohmeow_website/master/images/articles/what-is-ai-ml-dl.jpg)\n",
        "\n",
        "### A picture\n",
        "\n",
        "![](https://github.com/ohmeow/ohmeow_website/blob/master/_notebooks/images/ajtfb-ch-1-deep_learning_overview.png?raw=1 \"Credit: Fastbook p.25\")\n",
        "\n",
        "### An explanation\n",
        "\n",
        "> \"Suppowe we arrange for some automatic means of testing the effectiveness of any current weight assignment in terms of actual performance and provide a mechanism for altering the weight assignemnt so as to maximize the performance. We need not go into the details of such a procedure to see that it could be made entirely automatic and to see that a machine so programmed would 'learn' from its experince\" - Arthur Samuel\n",
        "\n",
        "#### Architecture vs. model\n",
        "> ... a ***model*** is a special kind of program: it's one that can do *many different things*, depending \n",
        "> on the **weights**.\n",
        "\n",
        "> The functional form of the *model* is called its ***architecture***.\n",
        "\n",
        "\n",
        "> Note: The **architecture** is \"the *template* of the model that we're trying to fit; i.e., the actual mathematical function that we're passing the input data and parameters to\" ... whereas the **model** is a particular set of parameters + the architecture.\n",
        "\n",
        "#### Parameters\n",
        "> **Weights** are just variables, and a **weight assignment** is a particuarl choice of values for those \n",
        "> variables. [Weights] are generally referred to as model ***parameters*** ... the term *weights* being\n",
        "> reserved for a particular type of model parameter.\n",
        "\n",
        "> The *weights* are called ***parameters***.\n",
        "\n",
        "\n",
        "> Note: These parameters are the things that are \"learnt\"; the values that can be updated, whereas **activations** in a neural network are simply numbers as the result of some calculation.\n",
        "\n",
        "#### Inputs vs.labels\n",
        "\n",
        "The ***inputs***, also known as your ***independent variable(s)*** [your `X`] is what your model uses to make ***predictions***. \n",
        "\n",
        "The ***labels***, also known as your ***dependent variable(s)*** [your `y`] represent the correct target value for your task.\n",
        "\n",
        "#### Loss\n",
        "\n",
        "> The [model's] measure of performance is called the ***loss*** ... [the value of which depends on how well your model is able to predict] the correct ***labels***.\n",
        "\n",
        "The ***loss*** is a measure of model performance that SGD can use to make your model better. A good loss function provides good gradients (slopes) that can be used to make even very minor changes to your weights so as to improve things. Visually, you want gentle rolling hills rather than abrupt steps or jagged peaks.\n",
        "\n",
        "\n",
        "> Note: You can think of the **loss** as the model's **metric**, that is, how it both understands how good it is and can help it improve."
      ],
      "metadata": {
        "id": "rYbxeyFCAnKW"
      }
    },
    {
      "cell_type": "markdown",
      "source": [
        "---\n",
        "## Transfer learning\n",
        "\n",
        "***Transfer learning*** is the process of taking a **\"pretrained model\"** that has been trained on a very large dataset with proven SOTA results, and **\"fine tuning\"** it for your specific task, which while likely similar to the task the pretrained model was trained for to one degree or another, is not the necesarily the same.\n",
        "\n",
        "### How does it work?\n",
        "1. The **head** of your model (the newly added part specific to your dataset/task) should be trained first since it is the only one with completely random weights. \n",
        "2. The degree to which your weights of the pretrained model will need to be updated is proportional to how similar your data is to the data it was trained on. The more dissimilar, the more the weights will need to be changed.\n",
        "3. Your model will only be as good as the data it was trained on, so make sure what you have is representative of what it will see in the real world. It \"can learn to operate on only the patterns seen in the input data used to train it.\"\n",
        "\n",
        "> The process of *training* (or *fitting*) the model is the process of finding a set of *parameter values* \n",
        "> (or *weights*) that specialize that general architecture into a model that works well for our \n",
        "> particular kind of data [and task]\n",
        "\n",
        "### What is the high-level approach in fastai?\n",
        "fastai provides a `fine_tune` method that uses proven tricks and hyperparameters for various DL tasks that the author's have found works well most of the time.\n",
        "\n",
        "### What do we have at the end of training (or finetuning)?\n",
        "\n",
        "> ... once the model is trained - that is, once we've chosen our final weight assignments - then we can think of the weights as being *part of the model* since we're not varying them anymore.\n",
        "\n",
        "This means a trained model can be treated like a typical function.\n"
      ],
      "metadata": {
        "id": "Nnp5NJpSBprs"
      }
    },
    {
      "cell_type": "markdown",
      "source": [
        "---\n",
        "## Metrics\n",
        "\n",
        "### A definition\n",
        "\n",
        "**Metrics** are a human-understandable measures of model quality whereas the **loss** is the machine's.  They are based on your validation set and are what you really care about, whereas the loss is \"a measure of performance\" that the training system can use to update weights automatically.\n",
        "\n",
        "A good choice for loss is a function \"that is easy for ***stochastic gradient descent (SGD)*** to use, whereas a good choies for your metrics are functions that your business users will care about. Seldom are they the same because most metrics don't provide smooth gradients that SGD can use to update your model's weights.\n",
        "\n",
        " \n",
        "> Note: Again, they are based on your validation/test sets (not your training set). Ultimately, we want to have a model that generalizes well to inputs it was *not* trained on, and this is what our validation/test sets represent. This is how we relay our model quality.\n",
        " \n",
        "\n",
        "### Examples\n",
        "\n",
        "There are a whole list of metrics built into the fastai library, [see here](https://docs.fast.ai/metrics.html). Below I begin a listing of the most common ones as they come up in the fastbook (and from personal experience).\n",
        "\n",
        "**error rate** = \"the proportion of images that were incorrectly identified.\"\n",
        "\n",
        "**accuracy** = the proportation of images that were correctly identified (`1 - error rate`)\n",
        "\n",
        "### Metrics to use based on task"
      ],
      "metadata": {
        "id": "9VBvL3XvB8G9"
      }
    },
    {
      "cell_type": "code",
      "source": [
        "#hide_input\n",
        "import pandas as pd\n",
        "metics_data = [\n",
        "  [ 'error rate', 'Yes', 'Yes*', 'No'],\n",
        "  [ 'accuracy', 'Yes', 'Yes*', 'No']\n",
        "]\n",
        "df = pd.DataFrame(data=metics_data, columns=['Metric', 'Multiclass classification', 'Multilabel classification', 'Regression'])\n",
        "# df.set_index('Metric', inplace=True)\n",
        "s = df.style.set_table_styles([\n",
        "  {'selector': 'th', 'props': [('border-style','solid'),('border-width','1px')]},\n",
        "  {'selector': 'td', 'props': [('border-style','solid'),('border-width','1px')]}\n",
        "])\n",
        "s.hide_index()"
      ],
      "metadata": {
        "id": "_4lzd-eBCW6E"
      },
      "execution_count": null,
      "outputs": []
    },
    {
      "cell_type": "markdown",
      "source": [
        "`*` indicates that other metrics may be better for the given task."
      ],
      "metadata": {
        "id": "XGCMzbaWB750"
      }
    },
    {
      "cell_type": "markdown",
      "metadata": {
        "id": "a1jmyUejDxmE"
      },
      "source": [
        "---\n",
        "## Training, validation, and test datasets\n",
        "\n",
        "### What is a training set?\n",
        "\n",
        "A ***training set*** consits of the data your model sees during training. These are the inputs and labels your model will use to determine the loss and update it's parameters in a way that will hopefully lead to a model that works well for its given task.\n",
        "\n",
        "##### Why do we need a training set?\n",
        "\n",
        "Because a model needs something to train on. It should be representative of the data the model will see in the future, and it should be updated if/when you discover that is not the case.\n",
        "\n",
        "#### How to use a training set?\n",
        "\n",
        "1. To train a model on examples resembling that which the model will seen in the future. More is generally better, but quality is king (e.g., bad data in, bad data out).\n",
        "\n",
        "2. To provide augmented examples for your model to see so as to increase the number of examples and better reflect what the model may see in the real world.\n",
        "\n",
        "\n",
        "### What is a validation set?\n",
        "\n",
        "A ***validation set*** (also know as the \"development set\") does not include any data from the ***training set***.  It's purpose to is gauge the generalization prowess of your model and also ensure you are neight overfitting or underfitting.\n",
        "\n",
        "> \"If [the model] makes an accurate prediction for a data item, that should be because it has learned characteristics of that kind of item, and not because the model has been shaped by *actually having seen that particular item*.\" \n",
        "\n",
        "#### Why do we need a validation set?\n",
        "\n",
        "> \"[because] what we care about is how well our model works on *previously unseen images* ... the longer\n",
        "> you train for, the better your accuracy will get on the training set ... as the model starts to memorize\n",
        "> the training set rather than finding generalizable underlying patterns in the data = **overfitting**\"\n",
        "\n",
        "![](https://raw.githubusercontent.com/fastai/fastbook/41a60e44d588139a03452f1907359fc2322f8d5f/images/att_00000.png)\n",
        "\n",
        "***Overfitting*** happens when the model \"remembers specific features of the input data, rather than generalizing well to data not seen during training.\" \n",
        "\n",
        " \n",
        "> Note: **ALWAYS** overfit before anything else.  It is your training loss gets better while your validation loss gets worse ... in other words, if you're validation loss is improving, even if not to the extent of your training loss, you are *not* overfitting\n",
        "\n",
        " \n",
        "> Note: **ALWAYS** include a validation set.\n",
        " \n",
        "\n",
        "> Note: **ALWAYS** use the validation set to measure your accuracy (or any metrics).\n",
        " \n",
        "\n",
        "> Note: **ALWAYS** set the `seed` parameter so that you \"get the same validation set every time\" so that \"if we change our model and retrain it, we know any differences are due to the changes to the model, not due to having a different random validation set.\"\n",
        " \n",
        "\n",
        "> Tip: For a good discussion of how to achieve predictable randomness, see [this discussion](https://forums.fast.ai/t/lesson1-reproducible-results-setting-seed-not-working/37921/5) on the fast.ai forums. There are actually several seeds you need to set and in several places when using fast.ai to achieve reproducibility.\n",
        "\n",
        " \n",
        "#### How to use a validation set?\n",
        "\n",
        "1. It gives us a sense of how well our model is doing on examples *it hasn't seen*, which makes sense since the ultimate worth of a model is in how well it generalizes to things unseen in the future.\n",
        "\n",
        "2. The validation set also informs us how we may change the  ***hyperparamters*** (e.g., model architecture, learning rates, data augmentation, etc...) to improve results.  These parameters are NOT learned ... they are choices WE make that affect the learning of the model parameters. \n",
        "\n",
        "\n",
        "### What is a test set?\n",
        "\n",
        "A ***test set*** ensures that we aren't overfitting our hyperparameter choices; it is held back even from ourselves and used to evaulate the model at the very end.\n",
        "\n",
        "> \"[Since we] are evaluating the model by looking at predictions on the validation data when we decide to explore new hyperparameter values ... subsequent version of the model are, indirectly, shaped by us having seen the validation data ... [and therefore], we are in danger of overfitting the validation data through human trial and error and exploration.\" \n",
        "\n",
        "\n",
        "> Note: A key property of the validation and test sets is that they must be representative of the new data you will see in the future.\n",
        "\n",
        "\n",
        "#### Why do we need a test set?\n",
        "\n",
        "To ensure we aren't inadvertently causing the model to overfit via our hyperparameter tuning which happens as a result of us looking at the validation set. It is a completely hidden dataset; it isn't used for training or tuning, only for measuring performance.\n",
        "\n",
        "\n",
        "#### How to use a test set?\n",
        "\n",
        "1. If evaluating 3rd party solutions. You'll want to know how to create a good test set and how to create a good baseline model.  Hold these out from the potential consultants and use them to fairly evaluate their work.\n",
        "\n",
        "2. To ensure you aren't overfitting your model as a result of validation set examination. As with the validation set, a good test set offers further assurance your model isn't learning particular ancillary features of particular things in your images.\n",
        "\n",
        "\n",
        "### How to create good validation and test sets\n",
        "\n",
        "It isn't always as easy as randomly shuffling your data!\n",
        "\n",
        "Again, what both of these sets should haven in common is that they \"must be representative of the new data you will see in the future.\"  And what this looks like often dependes on your use case and task. \n",
        "\n",
        "\n",
        "> Tip: You really need to think about what you need to predict and what you'd look at to make that prediction. You also need to make sure your training data is qualitatively different enough from your real world data (e.g., what the validation and test sets represent) as to learn patterns and not specific examples.\n",
        "\n",
        "\n",
        "**First**, consider cases where historical data is required to predict the future, for example of quant traders use \"*backtesting* to check whether their models are predictive of future periods, based on past data\"\n",
        "\n",
        "\n",
        "> Note: \"For a **time series** ... (where you are using historical data to build a model for use in the future ... you will want to choose a continuous section with the latest dates as your validation set\" \n",
        "\n",
        "\n",
        "\n",
        "\"A **second** common case occurs when you can easily anticipate ways the data you will be making predictions for in production may be *qualitatively different* from the data you have to train your model with.\" \n",
        "\n",
        "As an example of this, [the Kaggle distracted driver competition](https://www.kaggle.com/c/state-farm-distracted-driver-detection) is used. In it, based on pictures of drivers you need to predict categories of distraction. Since the goal of such a model would be to make good predictions against ***drivers the model hasn't seen***, it would make sense to create a validation and also a test set consiting of specific drivers the training set doesn't include (in fact, the competition's test set is exactly that!). \"If you used all the people in training your model, your model might be overfitting to the paricipants of those specific people and not just learning the states (texting, eating, etc.).\"\n",
        "\n",
        "Another example of this is [the Kaggle fisheries competition](https://www.kaggle.com/c/the-nature-conservancy-fisheries-monitoring) where the objective is to predict the species of fish caught on fishing boats. As the goal of such a model is to predict the species on other/future boats, it makes sense then that \"the test set consisted of images from boats that didn't appear in the training data, so in this case you'd want your validation set to also include boats that are not in the training set.\" \n",
        "\n",
        "\n",
        "> Tip: Start with training a model and let the results guide your EDA!\n",
        "\n",
        "\n",
        "For a stellar example of how this looks in practice, [see this thread from Boris Dayma](https://twitter.com/borisdayma/status/1447939363296489473) on an issue he noticed when looking at his results on the training and validation sets.  ***Note how his EDA was directed via training a model*** ... and also make sure to read through all the comments, replies, etc... for other things to pay attention too when seeing unusual results during training (there is a lot of good stuff there). Ultimately, in his case, what he found out was that the dataset was imbalanced and the imbalanced data was getting lumped together in the same batches due to poor shuffling strategy.  He documents [his fix in a subsequent thread](https://twitter.com/borisdayma/status/1448355381374242816) so check that out too.\n",
        "\n",
        "\n",
        "> Tip: Knowing how to read your training/validation results drives EDA and will lead to better train/validation/test splits.\n",
        "\n",
        "\n",
        "\n",
        "\n"
      ]
    },
    {
      "cell_type": "markdown",
      "source": [
        "---\n",
        "## Categorical datatypes\n",
        "\n",
        "***Categorical*** data \"contains values that are one of a discrete set of choice\" such as gender, occupation, day of week, etc...\n",
        "\n",
        "### What if our **target** is categorical?\n",
        "\n",
        "If your target/lables are categorical, then you have either a **multi-classification classification** problem (e.g., you are trying to predict a single class) or a **multi-label classification problem** (e.g., you are trying to predict whether your example belongs to zero or multiple classes). \n",
        "\n",
        "#### Multi-classification tasks\n",
        "\n",
        "For multi-classification tasks, a sensible loss function would be [cross entropy loss](https://ohmeow.com/posts/2020/04/04/understanding-cross-entropy-loss.html) (`nn.CrossEntropyLoss`) and [useful metrics](https://ohmeow.com/what-is/a-metric#Metrics-to-use-based-on-task) are likely to include error rate, accuracy, F1, recall, and/or precision depending on your business objectices and the make up of your dataset.  For example, if you're dealing with a highly imbalanced dataset, choosing accuracy would lead to an inflated sense of model performance since it may be learning to just predict the most common class.\n",
        "\n",
        "\n",
        "> Note: What if you need to predict \"None\"? This is more real world and covered nicely in Zach Mueller's [Recognizing Unknown Images (or the Unknown Label problem)](https://walkwithfastai.com/Unknown_Labels).\n",
        "\n",
        "#### Multi-label tasks\n",
        "\n",
        "For multi-label tasks, a sensible loss function would be binary cross entropy loss (BCE) (`nn.BCEWithLogitsLoss`) and useful metrics are likely to include F1, recall, and/or precision depending on your business objectices and the make up of your dataset. Notice that I didn't include error rate, or its opposite accuracy, as their datasets are generally highly imbalanced. \n",
        "\n",
        "\n",
        "### What if our **input** is categorical?\n",
        "\n",
        "Categorical inputs are generally represented by an **embedding** (e.g., a vector of numbers). ***Why?*** Mostly because it gives your model the ability to provide a more complex representation of your category than a single numer would.  \n",
        "\n",
        "For example, imagine that one of your inputs is day of week (e.g., Sunday, Monday, etc.) ... what does that mean? When combined with other inputs, its likely that the meaning of it is going to be much more nuanced than a single number can represent, and so we'd like to use multiple learned numbers.  This is what an embedding is."
      ],
      "metadata": {
        "id": "aQL9rMJzD48_"
      }
    },
    {
      "cell_type": "markdown",
      "source": [
        "---\n",
        "## Continuous datatypes\n",
        "\n",
        "***Continuous*** data is numerical that represents a quantity such as age, salary, prices, etc...\n",
        "\n",
        "### What if our **target** is continuous?\n",
        "\n",
        "If your target/labels are continuous, then you have a regression problem and the most likely loss function you would choose would be mean-square-error loss (MSE) (`nn.MSELoss`)  and your metric MSE as well\n",
        "\n",
        "\n",
        "> \"... MSE is already a a useful metric for this task (although its' probably more interpretable after we take the square root)\" ... the **RMSE** (% fn 3 %}\n",
        "\n",
        "\n",
        "> Note: For tasks that predict a continuous number, consider using `y_range` to constrain the network to predicting a value in the known range of valid values.\n",
        " \n",
        "\n",
        "### What if our **input** is continuous?\n",
        "\n",
        "In many cases there isn't anything special you need to do, in others, it makes sense to scale these numbers so they are in the same range (usually 0 to 1) as the rest of your continuous inputs.  This process is called **normalization**. The reason you would want to do this is so continuous values with bigger range of values (say 1000) don't drown out those with a smaller range (say 5) during model training.\n",
        "\n",
        "### Normalization\n",
        "\n",
        "> Note: \"When training a model, if helps if your input data is *normalizaed* - that is, has a mean of 0 and a standard deviation of 1.\n",
        "\n",
        "\n",
        "See [How To Calculate the Mean and Standard Deviation — Normalizing Datasets in Pytorch](https://towardsdatascience.com/how-to-calculate-the-mean-and-standard-deviation-normalizing-datasets-in-pytorch-704bd7d05f4c)"
      ],
      "metadata": {
        "id": "fr8sNPVyEOib"
      }
    },
    {
      "cell_type": "code",
      "source": [
        "import torch\n",
        "\n",
        "print('Example 1')\n",
        "nums = torch.tensor([0, 50, 100], dtype=float)\n",
        "print(f'Some raw values: {nums}')\n",
        "\n",
        "# 1. calculate their mean and standard deviation\n",
        "m = nums.mean()\n",
        "std = nums.std()\n",
        "print(f'Their mean is {m} and their standard deviation is {std}')\n",
        "\n",
        "# 2. normalize their values \n",
        "normalized = (nums - m) / std\n",
        "print(f'Here are their values after normalization: {normalized}')\n",
        "print('')\n",
        "\n",
        "print('Example 2')\n",
        "nums = torch.tensor([0, 5000, 10000], dtype=float)\n",
        "print(f'Some raw values: {nums}')\n",
        "\n",
        "# 1. calculate their mean and standard deviation\n",
        "m = nums.mean()\n",
        "std = nums.std()\n",
        "print(f'Their mean is {m} and their standard deviation is {std}')\n",
        "\n",
        "# 2. normalize their values \n",
        "normalized = (nums - m) / std\n",
        "print(f'Here are their values after normalization: {normalized}')\n",
        "print('')"
      ],
      "metadata": {
        "id": "CEkT3UESEl8-"
      },
      "execution_count": null,
      "outputs": []
    },
    {
      "cell_type": "markdown",
      "source": [
        "fastai supplies a `Normalize` transform you can use to do this ... \"it acts on a whole mini-batch at once, so you can add it to the `batch_tfms` secion of your data block ... you need to pass to this transform the mean and standard deviation that you want to use. If you don't, \"fastai will automatically calculate them from a single batch of your data). p.241\n",
        "\n",
        "\n",
        "> Note: \"This means that when you distribute a model, you need to also distribute the statistics used for normalization.\" (p.242) \n",
        " \n",
        "\n",
        "> Important: \"... if you're using a model that someon else has trained, make sure you find out what normalization statistics they used an match them\" (p.242)\n",
        " \n",
        " "
      ],
      "metadata": {
        "id": "uh56Q9OoEqKG"
      }
    },
    {
      "cell_type": "markdown",
      "source": [
        "---\n",
        "## ResNets\n",
        "\n",
        "### What is a ResNet & Why use it for computer vision tasks?\n",
        "\n",
        "A **ResNet** is a model architecture that has proven to work well in CV tasks. Several variants exist with different numbers of layers with the larger architectures taking longer to train and more prone to overfitting especially with smaller datasets.\n",
        "\n",
        "The number represents the number of layers in this particular ResNet variant ... \"(other options are 18, 50, 101, and 152) ... model architectures with more layers take longer to train and are more prone to overfitting ... on the other hand, when using more data, they can be qite a bit more accurate.\"\n",
        "\n",
        "#### What other things can use images recognizers for besides image tasks? \n",
        "\n",
        "Sound, time series, malware classification ... \"a good rule of thumb for converting a dataset into an image representation: if the human eye can recognize categories from the images, then a deep learning model should be able to do so too.\"\n",
        "\n",
        "#### How does it fare against more recent architectures like vision transformers?\n",
        "\n",
        "Pretty well apparently (at least at the time this post was written) ...\n",
        "\n",
        "> twitter: https://twitter.com/wightmanr/status/1444852719773122565\n",
        "\n",
        "\n",
        "### Best practices\n",
        "\n",
        " \n",
        "> Tip: Start with a smaller ResNet (like 18 or 34) and move up as needed.\n",
        " \n",
        "\n",
        "> Note: If you have a lot of data, the bigger resnets will likely give you better results.\n",
        " \n",
        "\n",
        "### An example\n",
        "\n",
        "#### Step 1: Build our DataLoaders"
      ],
      "metadata": {
        "id": "tge4-L_fE2mM"
      }
    },
    {
      "cell_type": "code",
      "source": [
        "#hide_output\n",
        "path = untar_data(URLs.PETS)/'images'\n",
        "\n",
        "def is_cat(x): \n",
        "  return x[0].isupper()                  # if filename is Capitalized, its a cat image\n",
        "\n",
        "dls = ImageDataLoaders.from_name_func(\n",
        "    path,                                # where our image are\n",
        "    get_image_files(path),               # how to build our inputs (our x)\n",
        "    label_func=is_cat,                   # how to build our labels (our y)\n",
        "    valid_pct=0.2,                       # how to build our validation set\n",
        "    item_tfms=Resize(224),               # things we want to do to each image when we fetch it\n",
        "    seed=42                              # for reproducibility\n",
        ")"
      ],
      "metadata": {
        "id": "4-pM4xeNFXWU"
      },
      "execution_count": null,
      "outputs": []
    },
    {
      "cell_type": "markdown",
      "source": [
        "**Why do we make images 224x224 pixels?**\n",
        "\n",
        "\"This is the standard size for historical reasons (old pretrained models require this size exactly) ... If you increase the size, you'll often get a model with better results since it will be able to focus on more details.\"\n",
        "\n",
        "\n",
        "> Tip: Train on progressively larger image sizes using the weights trained on smaller sizes as a kind of pretrained model."
      ],
      "metadata": {
        "id": "-aNo60HgFblq"
      }
    },
    {
      "cell_type": "markdown",
      "source": [
        "#### Step 2: Build our `cnn_learner`"
      ],
      "metadata": {
        "id": "J2sIBlYEFfD4"
      }
    },
    {
      "cell_type": "code",
      "source": [
        "#hide_output\n",
        "learn = cnn_learner(dls, resnet18, metrics=error_rate)"
      ],
      "metadata": {
        "id": "GbbyE0c9FkdI"
      },
      "execution_count": null,
      "outputs": []
    },
    {
      "cell_type": "markdown",
      "source": [
        "#### Step 3: Train"
      ],
      "metadata": {
        "id": "pjipGVbmFlJ7"
      }
    },
    {
      "cell_type": "code",
      "source": [
        "learn.fine_tune(1)"
      ],
      "metadata": {
        "id": "eNPnwIkMFpm4"
      },
      "execution_count": null,
      "outputs": []
    },
    {
      "cell_type": "markdown",
      "source": [
        "For more information on how transfer learning works, and the `fine_tune` method in particuarl, see this section in my [\"What is machine learning\" post](https://ohmeow.com/what-is/machine-learning#Transfer-learning).\n",
        "\n",
        "For more metrics like `error_rate`, see my [\"What is a metric\" post](https://ohmeow.com/what-is/a-metric)."
      ],
      "metadata": {
        "id": "5MkEZUfvFsek"
      }
    },
    {
      "cell_type": "markdown",
      "source": [
        "---\n",
        "## Visualizing what a NN is learning\n",
        "\n",
        "### Why is it important?\n",
        "\n",
        "Because it allows you to know both what your NN is doing/learning and whether it is learning anything at all. The former is helpful because it gives you confidence that your model is learning to look at the right information and insights on how to improve it, the later because a model that isn't learning anything (e.g., able to update its parameters so as to improve itself) isn't a helpful or useful model.\n",
        "\n",
        "\n",
        "> Tip: Learn how to visualize and understand your activations and gradients\n",
        "\n",
        "\n",
        "### Computer vision models\n",
        "\n",
        "The top of this image is a visualization of the weights (what the model is learning), and the one below is a visualization of the activations, in particular, the parts of training images that most strongly match each set of weights above. \n",
        "\n",
        "![](https://github.com/fastai/fastbook/raw/e57e3155824c81a54f915edf9505f64d5ccdad84/images/layer1.png)\n",
        "\n",
        "\n",
        "> Tip: This kind of visualization is particularly helpful in transfer learning as it allows us to infer which layers may require more or less training for our task. For example, the layer above probably requires little to no training as it looks to be identifying edges and gradients, thing likely helpful and necessary for all computer vision tasks.\n",
        "\n",
        "\n",
        "#### Examples\n",
        "\n",
        "**Vectors into 2D grayscale images (MNIST)**\n",
        "\n",
        "*Courtesy of Abishek Thakur's, \"Approaching (almost) any Machine Learning Problem\""
      ],
      "metadata": {
        "id": "_DUFScrgFxft"
      }
    },
    {
      "cell_type": "code",
      "source": [
        "inputs, targets = datasets.fetch_openml('mnist_784', version=1, return_X_y=True, as_frame=False)\n",
        "targets = targets.astype(int)\n",
        "\n",
        "inputs.shape, targets.shape # always helpful to see the shape of things"
      ],
      "metadata": {
        "id": "AOsoYf_uGcpm"
      },
      "execution_count": null,
      "outputs": []
    },
    {
      "cell_type": "code",
      "source": [
        "# Here we are using a numpy array, but if you're using Pytorch, you could use either .view or .reshape\n",
        "# see https://stackoverflow.com/questions/49643225/whats-the-difference-between-reshape-and-view-in-pytorch\n",
        "images = inputs.reshape((-1,28,28))\n",
        "\n",
        "print(images.shape)\n",
        "plt.imshow(images[0], cmap='gray')"
      ],
      "metadata": {
        "id": "bJ60mNLmGcMP"
      },
      "execution_count": null,
      "outputs": []
    },
    {
      "cell_type": "markdown",
      "source": [
        "**Vectors as clusters  (MNIST)**\n",
        "\n",
        "*Courtesy of Abishek Thakur's, \"Approaching (almost) any Machine Learning Problem\""
      ],
      "metadata": {
        "id": "U4qodKPNGiGV"
      }
    },
    {
      "cell_type": "code",
      "source": [
        "tsne = manifold.TSNE(n_components=2, random_state=42)\n",
        "transformed_data = tsne.fit_transform(inputs[:1000]) # reduces dimensionality of each vector to 2"
      ],
      "metadata": {
        "id": "v-hftraMGglJ"
      },
      "execution_count": null,
      "outputs": []
    },
    {
      "cell_type": "code",
      "source": [
        "cluster_data = np.column_stack((transformed_data, targets[:1000]))\n",
        "cluster_data.shape # transformed_data 2 dims (call them x and y) + targets 1 dim = 3"
      ],
      "metadata": {
        "id": "aOq7jhgcGoKp"
      },
      "execution_count": null,
      "outputs": []
    },
    {
      "cell_type": "code",
      "source": [
        "tsne_df = pd.DataFrame(cluster_data, columns=['x', 'y', 'targets'])\n",
        "print(len(tsne_df))\n",
        "tsne_df.head(2)"
      ],
      "metadata": {
        "id": "EkwW1nsJGoAc"
      },
      "execution_count": null,
      "outputs": []
    },
    {
      "cell_type": "code",
      "source": [
        "viz = sns.FacetGrid(tsne_df, hue='targets', height=8)\n",
        "viz.map(plt.scatter, 'x', 'y').add_legend()"
      ],
      "metadata": {
        "id": "hUPtQZ4DGsQu"
      },
      "execution_count": null,
      "outputs": []
    },
    {
      "cell_type": "markdown",
      "metadata": {
        "id": "PSwEOzDpHHBj"
      },
      "source": [
        "---\n",
        "## Resources\n",
        "\n",
        "1. https://book.fast.ai - The book's website; it's updated regularly with new content and recommendations from everything to GPUs to use, how to run things locally and on the cloud, etc...\n",
        "\n",
        "2. https://course.fast.ai/datasets - A variety of slimmed down datasets you can use for various DL tasks that support \"rapid prototyping and experimentation.\" \n",
        "\n",
        "3. https://huggingface.co/docs/datasets/ - Serves a similar purpose to the fastai datasets but for the NLP domain. Includes metrics and full/sub-set datasets that you can use to benchmark your results against the top guns of deep learning.\n",
        "\n",
        "\n",
        "> Important: Start with a smaller dataset and scale up to full size to accelerate modeling!\n"
      ]
    },
    {
      "cell_type": "code",
      "metadata": {
        "id": "B2wEfmj5CLA8"
      },
      "source": [
        ""
      ],
      "execution_count": null,
      "outputs": []
    }
  ]
}