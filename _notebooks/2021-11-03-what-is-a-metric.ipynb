{
  "nbformat": 4,
  "nbformat_minor": 0,
  "metadata": {
    "colab": {
      "name": "Copy of Copy of how-to-learn-deep-learning.ipynb",
      "provenance": [],
      "collapsed_sections": [],
      "authorship_tag": "ABX9TyOvyZ83N29dAg9SqQy9DCls"
    },
    "kernelspec": {
      "name": "python3",
      "display_name": "Python 3"
    }
  },
  "cells": [
    {
      "cell_type": "markdown",
      "metadata": {
        "id": "sWJL4-Qwluy4"
      },
      "source": [
        "# \"What is a metric\"\n",
        "> \"Insights from [\\\"Deep Learning for Coders with fastai & PyTorch\\\"](https://github.com/fastai/fastbook) and from around the world\"\n",
        "\n",
        "- toc: true\n",
        "- branch: master\n",
        "- badges: true\n",
        "- hide_binder_badge: true\n",
        "- comments: true\n",
        "- author: Wayde Gilliam\n",
        "- categories: [fastai, fastbook, fastbook-chapter-1, what-is, how-to, metrics]\n",
        "- image: images/articles/tape-measure.jpg\n",
        "- hide: false\n",
        "- search_exclude: false\n",
        "- permalink: /what-is/a-metric"
      ]
    },
    {
      "cell_type": "markdown",
      "metadata": {
        "id": "nilyL8K728RC"
      },
      "source": [
        "---\n",
        "## A definition\n",
        "\n",
        "**Metrics** are a human-understandable measures of model quality whereas the **loss** is the machine's.  They are based on your validation set and are what you really care about, whereas the loss is \"a measure of performance\" that the training system can use to update weights automatically.\n",
        "\n",
        "A good choice for loss is a function \"that is easy for ***stochastic gradient descent (SGD)*** to use, whereas a good choies for your metrics are functions that your business users will care about. Seldom are they the same because most metrics don't provide smooth gradients that SGD can use to update your model's weights."
      ]
    },
    {
      "cell_type": "markdown",
      "metadata": {
        "id": "_r-Nf-dUQEPd"
      },
      "source": [
        "> Note: Again, they are based on your validation/test sets (not your training set). Ultimately, we want to have a model that generalizes well to inputs it was *not* trained on, and this is what our validation/test sets represent. This is how we relay our model quality."
      ]
    },
    {
      "cell_type": "markdown",
      "metadata": {
        "id": "Cg5Uty6uP8QK"
      },
      "source": [
        "---\n",
        "## Examples\n",
        "\n",
        "There are a whole list of metrics built into the fastai library, [see here](https://docs.fast.ai/metrics.html). Below I begin a listing of the most common ones as they come up in the fastbook (and from personal experience).\n",
        "\n",
        "**error rate** = \"the proportion of images that were incorrectly identified.\" {% fn 1 %}\n",
        "\n",
        "**accuracy** = the proportation of images that were correctly identified (`1 - error rate`)"
      ]
    },
    {
      "cell_type": "markdown",
      "metadata": {
        "id": "ItuXCIdkTzyS"
      },
      "source": [
        "---\n",
        "## Metrics to use based on task"
      ]
    },
    {
      "cell_type": "code",
      "metadata": {
        "id": "5rMLpDz9SD0N",
        "colab": {
          "base_uri": "https://localhost:8080/",
          "height": 114
        },
        "outputId": "646c494b-5ca6-4fdb-8693-0e7afa1aba44"
      },
      "source": [
        "#hide_input\n",
        "import pandas as pd\n",
        "metics_data = [\n",
        "  [ 'error rate', 'Yes', 'Yes*', 'No'],\n",
        "  [ 'accuracy', 'Yes', 'Yes*', 'No']\n",
        "]\n",
        "df = pd.DataFrame(data=metics_data, columns=['Metric', 'Multiclass classification', 'Multilabel classification', 'Regression'])\n",
        "# df.set_index('Metric', inplace=True)\n",
        "s = df.style.set_table_styles([\n",
        "  {'selector': 'th', 'props': [('border-style','solid'),('border-width','1px')]},\n",
        "  {'selector': 'td', 'props': [('border-style','solid'),('border-width','1px')]}\n",
        "])\n",
        "s.hide_index()"
      ],
      "execution_count": null,
      "outputs": [
        {
          "output_type": "execute_result",
          "data": {
            "text/html": [
              "<style  type=\"text/css\" >\n",
              "    #T_d9fb9ef0_3dba_11ec_8635_0242ac1c0002 th {\n",
              "          border-style: solid;\n",
              "          border-width: 1px;\n",
              "    }    #T_d9fb9ef0_3dba_11ec_8635_0242ac1c0002 td {\n",
              "          border-style: solid;\n",
              "          border-width: 1px;\n",
              "    }</style><table id=\"T_d9fb9ef0_3dba_11ec_8635_0242ac1c0002\" class=\"dataframe\"><thead>    <tr>        <th class=\"col_heading level0 col0\" >Metric</th>        <th class=\"col_heading level0 col1\" >Multiclass classification</th>        <th class=\"col_heading level0 col2\" >Multilabel classification</th>        <th class=\"col_heading level0 col3\" >Regression</th>    </tr></thead><tbody>\n",
              "                <tr>\n",
              "                                <td id=\"T_d9fb9ef0_3dba_11ec_8635_0242ac1c0002row0_col0\" class=\"data row0 col0\" >error rate</td>\n",
              "                        <td id=\"T_d9fb9ef0_3dba_11ec_8635_0242ac1c0002row0_col1\" class=\"data row0 col1\" >Yes</td>\n",
              "                        <td id=\"T_d9fb9ef0_3dba_11ec_8635_0242ac1c0002row0_col2\" class=\"data row0 col2\" >Yes*</td>\n",
              "                        <td id=\"T_d9fb9ef0_3dba_11ec_8635_0242ac1c0002row0_col3\" class=\"data row0 col3\" >No</td>\n",
              "            </tr>\n",
              "            <tr>\n",
              "                                <td id=\"T_d9fb9ef0_3dba_11ec_8635_0242ac1c0002row1_col0\" class=\"data row1 col0\" >accuracy</td>\n",
              "                        <td id=\"T_d9fb9ef0_3dba_11ec_8635_0242ac1c0002row1_col1\" class=\"data row1 col1\" >Yes</td>\n",
              "                        <td id=\"T_d9fb9ef0_3dba_11ec_8635_0242ac1c0002row1_col2\" class=\"data row1 col2\" >Yes*</td>\n",
              "                        <td id=\"T_d9fb9ef0_3dba_11ec_8635_0242ac1c0002row1_col3\" class=\"data row1 col3\" >No</td>\n",
              "            </tr>\n",
              "    </tbody></table>"
            ],
            "text/plain": [
              "<pandas.io.formats.style.Styler at 0x7fe3e184e8d0>"
            ]
          },
          "metadata": {},
          "execution_count": 1
        }
      ]
    },
    {
      "cell_type": "markdown",
      "metadata": {
        "id": "05MiN-QLTnWA"
      },
      "source": [
        "`*` indicates that other metrics may be better for the given task."
      ]
    },
    {
      "cell_type": "markdown",
      "metadata": {
        "id": "LKAQxMmyx8OB"
      },
      "source": [
        "---\n",
        "{{ '\"Chaper 1: Your Deep Learning Journey\". In *[The Fastbook](https://www.amazon.com/Deep-Learning-Coders-fastai-PyTorch/dp/1492045527)* p.19' | fndetail: 1 }}"
      ]
    }
  ]
}