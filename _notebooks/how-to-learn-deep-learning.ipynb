{
  "nbformat": 4,
  "nbformat_minor": 0,
  "metadata": {
    "colab": {
      "name": "how-to-learn-deep-learning.ipynb",
      "private_outputs": true,
      "provenance": [],
      "collapsed_sections": [],
      "authorship_tag": "ABX9TyPV/iIPZGzsst8Zws2T7JwG"
    },
    "kernelspec": {
      "name": "python3",
      "display_name": "Python 3"
    }
  },
  "cells": [
    {
      "cell_type": "markdown",
      "metadata": {
        "id": "sWJL4-Qwluy4"
      },
      "source": [
        "# \"How to learn (deep learning)\"\n",
        "> \"Insights from [\\\"Deep Learning for Coders with fastai & PyTorch\\\"](https://github.com/fastai/fastbook) and from around the world\"\n",
        "\n",
        "- toc: false\n",
        "- branch: master\n",
        "- badges: true\n",
        "- hide_binder_badge: true\n",
        "- comments: true\n",
        "- author: Wayde Gilliam\n",
        "- categories: [fastai, fastbook, how-to]\n",
        "- image: images/articles/thumbs_up_kid.jpeg\n",
        "- hide: false\n",
        "- search_exclude: false\n",
        "- permalink: /how-to/learn-deep-learning"
      ]
    },
    {
      "cell_type": "markdown",
      "metadata": {
        "id": "WfcRNESotGLU"
      },
      "source": [
        "Cervantes once wrote that \"the journey is better than the inn\", but I rather like to think that the journey *is* the inn.  \n",
        "\n",
        "It means that irrespective to its difficulties (and likely because of them), your adventures is what you look back on with fondness at its end rather than the end itself.  It's why I enjoy reading \"The Lord of the Rings\" every five years or so, where as I age and experience the hand life has dealt me, I find myself appreciating different aspects of the story and gaining new insights into what I value and into what I want to be as a human being. I find my journey with deep learning to be roughly analgous to that. \n",
        "\n",
        "I've been a part of [the fast.ai community](https://forums.fast.ai/u/wgpubs/summary) for several years. I've been through [the course](https://course.fast.ai/) multiple times (since it was using theano back in the old days), I've contributed to the library, and use it as the basis for one of [my own](https://ohmeow.github.io/blurr/).  And as with each course, a re-reading of the book brings new insights, ideas, and revelations.\n",
        "\n",
        "And so here I begin with my meandering thoughts and reflections from yet another reading of what I consider \"The Lord of the Rings\" of deep learning. As such, it makes sense to being with the most foundational topic in fastbook, **\"How do you learn Deep Learning?\"**\n",
        "\n",
        "---\n",
        "\n",
        "## You can do this!\n",
        "> Hi, everybody; I'm Jeremy ... I do not have any formal technical education ... didn't have great grades.\n",
        "> I was much more interested in doing real projects.\n",
        "\n",
        "This is meaningful to me as someone with a BA in History and a MA in Theology. It's a reminder that if you want something, it's within your grasp to make it happen if you are willing to put in the work. It's also a reminder that key to getting there is actually doing something!  If find too many people thinking that if they just get into that school, or if they can just take that class, then they'll be a good software enginner or deep learning practitioner.  The reality is that the *only* way you get there is by doing it ... just like pull-ups (which aren't much fun when you're starting out and/or you're 49 and overweight).\n",
        "\n",
        "## The problem with traditional education\n",
        "> ... how math is taught - we require students to spend years doing rote memorization and learning dry\n",
        "> disconnected *fundatmentals* that we claim will pay off later, long after most of them quit the subject.\n",
        "\n",
        "This also is the problem with higher education in general, where young people spend at least four to five years learning things they already learned in High School or else things they don't really care about and will be forgotten right after finals, spending in excess of $100,000 for the privilege of it and likely going into debt in the tens of thousands of dollars, all with this idea that having done it they will be prepared for the real world.  Unfortunately, that's not how it works. Whether you are in a university of even go to university, what matter is what you do ... not what classes you took or what your GPA is.\n",
        "\n",
        "## Deep Learning (and coding in general) is an art maybe more so than a science\n",
        "> The hardest part of deep learning is artisanal.\n",
        "\n",
        "I remember going to an iOS conference way back in the day and a conference speaker asking how many folks in the session I was sitting in had a background in music. 80-90% of the audience raised their hands.  Sure, there is math and stats and a science to deep learning, but like any coding enterprise, it's an art ... with some artists being better than others along with room for improvement regardless of whether you're Van Gough or painting by the numbers.\n",
        "\n",
        "## Doing is how you learn, and what you've done is what matters\n",
        "> ... focus on your hobbies and passions ... Common character traits in the people who do well at deep learning include playfulness and curiosity.\n",
        "\n",
        "> at Tesla .. CEO Elon Musk says 'A PhD is definitely not required. All that matters is a deep understanding of AI & ability to implement NNs in a way that is actually useful .... Don't care if you even graduated High School.'\n",
        "\n",
        "> ... the most important thing for learning deep learning is writing code and experimenting.\""
      ]
    },
    {
      "cell_type": "markdown",
      "metadata": {
        "id": "W70CEIUeo-cT"
      },
      "source": [
        "---\n",
        "## Folks to follow\n",
        "\n",
        "It's always helpful to have some role models; folks who practice the lessons learned above and can help you along your journey.\n",
        "\n",
        "For starters, consider this image of the top 12 users based on most likes in the fast.ai forums:\n",
        "![](https://github.com/ohmeow/ohmeow_website/blob/master/images/articles/20211102-fastai-forums-top-12.png?raw=1)\n",
        "\n",
        "Aside from the founders of [fast.ai](https://www.fast.ai/) and a bunch of them working for noteable ML companies like [Hugging Face](https://huggingface.co/) and [Weights & Biases](https://wandb.ai/site), I can think of at least ***FOUR*** things these folks have in common:\n",
        "\n",
        "1. They are **fearless in asking what they may have even considered, dumb questions**.\n",
        "\n",
        "2. They are **active in researching the answers to their own questions**, as well as, those asked by others.\n",
        "\n",
        "3. They are **active in teaching** other through blogs, books, open source libraries, study groups, and podcasts.\n",
        "\n",
        "4. **They build** ML solutions, that is, they all have experience building models and making them usable via deployed applications and/or in kaggle compeititions.\n",
        "\n",
        "These trait aren't just key to learning deep learning; they are key to learning anything!  Practice them and you guarantee success in learning anything you've set your mind on learning.\n",
        "\n",
        "\n"
      ]
    },
    {
      "cell_type": "markdown",
      "metadata": {
        "id": "Ko3GDAdypKfd"
      },
      "source": [
        "---\n",
        "## What if I can only follow three?\n",
        "\n",
        "Aside from Jeremy, who's a given, if I could only follow three people who have mastered to art of learning deep learning, they would be ...\n",
        "\n",
        "**Radek Osmulsk**: (twitter: [@radekosmulski](https://twitter.com/radekosmulski))\n",
        "> twitter: https://twitter.com/radekosmulski/status/1455527697661169664\n",
        "\n",
        "**Zach Mueller**: (twitter: [@TheZachMueller](https://twitter.com/TheZachMueller))\n",
        "> twitter: https://twitter.com/bhutanisanyam1/status/1373694884071149571\n",
        "\n",
        "**Sanyam Bhutani**: (twitter: [@bhutanisanyam1](https://twitter.com/bhutanisanyam1))\n",
        "> twitter: https://twitter.com/bhutanisanyam1/status/1452599997493481472\n",
        "\n",
        "I follow each of these individuals on twitter and you should too! Though I've never met any of them in person, I consider them all friends and amongst the most helpful in modeling the kind of things folks need to do/be in order to become successful software and ML developers."
      ]
    },
    {
      "cell_type": "markdown",
      "metadata": {
        "id": "mjb8WDdAu1-t"
      },
      "source": [
        "## What if I'm too lazy to read any of that stuff above?\n",
        "\n",
        "Well, you can watch this video (and then go back and read that stuff anyways) ...\n",
        "\n",
        "> youtube: https://youtu.be/_QUEXsHfsA0?t=935\n"
      ]
    },
    {
      "cell_type": "markdown",
      "metadata": {
        "id": "LKAQxMmyx8OB"
      },
      "source": [
        "---\n"
      ]
    },
    {
      "cell_type": "code",
      "metadata": {
        "id": "cuXS6wCjx_xL"
      },
      "source": [
        ""
      ],
      "execution_count": null,
      "outputs": []
    }
  ]
}