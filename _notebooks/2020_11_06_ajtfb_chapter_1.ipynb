{
  "nbformat": 4,
  "nbformat_minor": 0,
  "metadata": {
    "colab": {
      "name": "2020-11-06-ajtfb-chapter-1.ipynb",
      "private_outputs": true,
      "provenance": [],
      "collapsed_sections": []
    },
    "kernelspec": {
      "name": "python3",
      "display_name": "Python 3"
    },
    "accelerator": "GPU"
  },
  "cells": [
    {
      "cell_type": "markdown",
      "metadata": {
        "id": "sWJL4-Qwluy4"
      },
      "source": [
        "# \"A Journey Through Fastbook (AJTFB) - Chapter 4\"\n",
        "> \"The fourth in a weekly-ish series where I revisit the fast.ai book, [\\\"Deep Learning for Coders with fastai & PyTorch\\\"](https://github.com/fastai/fastbook), and provide commentary on the bits that jumped out to me chapter by chapter.  So without further adieu, let's go!\"\n",
        "\n",
        "- toc: false\n",
        "- branch: master\n",
        "- badges: true\n",
        "- hide_binder_badge: true\n",
        "- comments: true\n",
        "- author: Wayde Gilliam\n",
        "- categories: [fastai, fastbook]\n",
        "- image: images/articles/fastbook.jpg"
      ]
    },
    {
      "cell_type": "markdown",
      "metadata": {
        "id": "WfcRNESotGLU"
      },
      "source": [
        "Other posts in this series:  \n",
        "[A Journey Through Fastbook (AJTFB) - Chapter 1](https://ohmeow.com/posts/2020/11/06/ajtfb-chapter-1.html)  \n",
        "[A Journey Through Fastbook (AJTFB) - Chapter 2](https://ohmeow.com/posts/2020/11/16/ajtfb-chapter-2.html)  \n",
        "[A Journey Through Fastbook (AJTFB) - Chapter 3](https://ohmeow.com/posts/2020/11/22/ajtfb-chapter-3.html)\n",
        "\n"
      ]
    },
    {
      "cell_type": "code",
      "metadata": {
        "id": "gWxCOulE-ACJ"
      },
      "source": [
        "# hide\n",
        "!pip install fastai>=2.3 --upgrade\n",
        "\n",
        "import fastai\n",
        "from fastai.vision.all import *\n",
        "print(fastai.__version__ )"
      ],
      "execution_count": null,
      "outputs": []
    },
    {
      "cell_type": "markdown",
      "metadata": {
        "id": "WyL36r-q-MRO"
      },
      "source": [
        "## Chapter 4"
      ]
    },
    {
      "cell_type": "markdown",
      "metadata": {
        "id": "Xn6OyriNApwH"
      },
      "source": [
        "---\n",
        "### How to visualize a grayscale image in pandas ..."
      ]
    },
    {
      "cell_type": "code",
      "metadata": {
        "id": "LWRBzg9Z-Lof"
      },
      "source": [
        "mnist_path = untar_data(URLs.MNIST_SAMPLE)\n",
        "mnist_path.ls()"
      ],
      "execution_count": null,
      "outputs": []
    },
    {
      "cell_type": "code",
      "metadata": {
        "id": "SNW-l1sL_l0l"
      },
      "source": [
        "sample_3 = Image.open((mnist_path/'train/3').ls().sorted()[1])\n",
        "sample_3"
      ],
      "execution_count": null,
      "outputs": []
    },
    {
      "cell_type": "code",
      "metadata": {
        "id": "oaesatM_AAiI"
      },
      "source": [
        "sample_3_t = tensor(sample_3)\n",
        "df = pd.DataFrame(sample_3_t[4:15, 4:22])\n",
        "df.style.set_properties(**{'font-size':'6pt'}).background_gradient('Greys')"
      ],
      "execution_count": null,
      "outputs": []
    },
    {
      "cell_type": "markdown",
      "metadata": {
        "id": "yoBHs0wwbqG6"
      },
      "source": [
        "---\n",
        "### What is a baseline model and why do you want one?\n",
        "\n",
        "> A simple model that you are confident should perform reasonably well. It should be\n",
        "> simple to implement and easy to test\n",
        "\n",
        "**Why do you want to start with a baseline model?**\n",
        "> ... without starting with a sensible baseline, it is difficult to know whether your super-fancy models are any good\n",
        "\n",
        "**How do you build/find one of these models?**\n",
        "\n",
        "You can search online for folks that have trained models to solve a problem similar to your's and/or you can start with one of the high-level examples in the fastai docs against your data.  There are a bunch covering core vision, text, tabuluar and colab filtering tasks right [here](https://docs.fast.ai/tutorial.html).\n",
        "\n"
      ]
    },
    {
      "cell_type": "markdown",
      "metadata": {
        "id": "3x904qZCHHcb"
      },
      "source": [
        "---\n",
        "### Tensors\n",
        "\n",
        "**What is a \"Tensor\"?**\n",
        "\n",
        "Like a numpy array, but with GPU support.  The data it contains must be of the ***same type*** and must conform in ***rectangular shape***.\n",
        "\n",
        "> Important: \"try to avoid as much as possible writing loops, and replace them by commands that work directly on arrays or tensors\"\n",
        "\n",
        "\n",
        "Let's take a look .."
      ]
    },
    {
      "cell_type": "code",
      "metadata": {
        "id": "4So8iq5hAd7u"
      },
      "source": [
        "threes = (mnist_path/'train/3').ls().sorted()\n",
        "len(threes), threes[0]"
      ],
      "execution_count": null,
      "outputs": []
    },
    {
      "cell_type": "code",
      "metadata": {
        "id": "LNHfEYsHBpSF"
      },
      "source": [
        "all_threes = [ tensor(Image.open(fp)) for fp in threes ]\n",
        "len(all_threes), all_threes[0].shape"
      ],
      "execution_count": null,
      "outputs": []
    },
    {
      "cell_type": "code",
      "metadata": {
        "id": "df-v9cdXBpOE"
      },
      "source": [
        "stacked_threes = torch.stack(all_threes).float()/255\n",
        "stacked_threes.shape"
      ],
      "execution_count": null,
      "outputs": []
    },
    {
      "cell_type": "markdown",
      "metadata": {
        "id": "yDvJ0vpCC01_"
      },
      "source": [
        "Important information about tensors include its `shape`, `rank`, and `type`:"
      ]
    },
    {
      "cell_type": "code",
      "metadata": {
        "id": "YcbS_oJBCsiJ"
      },
      "source": [
        "# shape = the length of each axis\n",
        "print('shape: ', stacked_threes.shape)\n",
        "\n",
        "# rank = the total number of axes\n",
        "print('rank: ', stacked_threes.ndim)\n",
        "\n",
        "# type = the datatype of its contents\n",
        "print('type: ', stacked_threes.dtype)"
      ],
      "execution_count": null,
      "outputs": []
    },
    {
      "cell_type": "markdown",
      "metadata": {
        "id": "mIRCwDYHejmx"
      },
      "source": [
        "Important things you can do to a tensor, `view`, `@`, `where`"
      ]
    },
    {
      "cell_type": "code",
      "metadata": {
        "id": "LB7N7Ewqeodl"
      },
      "source": [
        "# view = change the shape of a tensor without changing its contents\n",
        "stacked_threes_rank_2 = stacked_threes.view(-1, 28*28)\n",
        "print('orig. shape: ', stacked_threes.shape)\n",
        "print('make into a rank 2 tensor', stacked_threes_rank_2.shape)\n",
        "\n",
        "# @ = operator for matrix multiplication\n",
        "print('result of matrix multiplication: ', (stacked_threes @ torch.randn((1,28,28))).shape)\n",
        "\n",
        "# where = torch.where(a,b,c) => [b[i] if a[i] else c[i] for i in range(len(a))] ... see p.167\n",
        "trgs = tensor([1,0,1])\n",
        "preds = tensor([0.9, 0.4, 0.2])\n",
        "\n",
        "def mnist_loss(preds, targs):\n",
        "  return torch.where(targs == 1, 1 - preds, preds).mean()\n",
        "\n",
        "print('output of where: ', mnist_loss(preds, trgs))"
      ],
      "execution_count": null,
      "outputs": []
    },
    {
      "cell_type": "markdown",
      "metadata": {
        "id": "Ow5Fn9hvFrSZ"
      },
      "source": [
        "For an interactive lesson on matrix multiplication, [this is the best](http://matrixmultiplication.xyz/)!\n",
        "\n",
        "Check out pp.145-148 to learn about \"broadcasting\", a critical piece to understanding how you can and should manipulate tensors or numpy arrays!"
      ]
    },
    {
      "cell_type": "markdown",
      "metadata": {
        "id": "_yYHVT5kGXFc"
      },
      "source": [
        "---\n",
        "### Stochastic Gradient Descent - How to train a model\n",
        "\n"
      ]
    },
    {
      "cell_type": "markdown",
      "metadata": {
        "id": "JpqbW9GgqrZN"
      },
      "source": [
        "Here are the steps:\n",
        "\n",
        "1. **INITIALIZE** the weights = initializing parameters to random values\n",
        "\n",
        "2. For each image, **PREDICT** whether it is a 3 or 7\n",
        " \n",
        "3. Based on the predictions, calculate how good the model is by calculating its **LOSS** (small is good)\n",
        "\n",
        "4. Calculate the **GRADIENT**, ***\"which measures for each weight how changing the weight would change the loss\"***\n",
        "\n",
        "5. **STEP**, change all the weights based on the gradient\n",
        "\n",
        "6. Starting at step 2, **REPEAT**\n",
        "\n",
        "7. **STOP** when you don't want to train any longer or the model is good enough\n",
        "\n",
        "Below, we'll delve deeper into these steps. We'll do this by getting a big more into the sample code beginning on p.150 ..."
      ]
    },
    {
      "cell_type": "markdown",
      "metadata": {
        "id": "J_c6meQugtub"
      },
      "source": [
        "### Step 1: Initializing weights\n",
        "\n",
        "One way is presented on p.164:\n",
        "```\n",
        "def init_params(size, std=1.0) return (torch.randn(size)*std).requires_grad_()\n",
        "\n",
        "weights = init_params((28*28,1)) #=> raturns a rank 2, 784x1 tensor, with random values\n",
        "```"
      ]
    },
    {
      "cell_type": "markdown",
      "metadata": {
        "id": "ZGgwwU48haT8"
      },
      "source": [
        "### Step 3: Calculating the loss\n",
        "\n",
        "> Important: \"For continuous data, it's common to use *mean squared error*\".  In order to understand how to write this, read it right-to-left (e.g., error -> square -> mean)\n",
        "\n",
        "```\n",
        "def mse(preds, targs): return ((preds-targs)**2).mean()\n",
        "\n",
        "# in PyTorch\n",
        "loss = F.mse_loss(preds, targs)\n",
        "```\n",
        "\n",
        "> Important: Accuracy is a bad loss function\n",
        "\n",
        "\n",
        "**Why is accuracy a poor loss function?**\n",
        "\n",
        "> \"The gradient of a funciton is its slope, or its steepness ... how much the value of the function goes up or down, divided by how much we changed the input `(y_new - y_old) / (x_new - x_old)` .... The problem with [accuracy] is that a small change in weights from `x_old` to `x_new` isn't likely to cause any prediction to change, so `(y_new - y_old)` will almost always be 0 ... **the gradient is 0 almost everywhere.  A very small change in the value of a weight will often not change the accuracy at all\n",
        "\n",
        "A gradient = 0 will mean that the weights aren't updated.\n",
        "\n",
        "> Important: \"We need a loss function that, when our weights result in slightly better predictions, gives us a slightly better loss\"\n",
        "\n",
        "\n",
        "**Metrics v. Loss**\n",
        "\n",
        "> Important: \"... ***the metric is to drive human understanding*** and ***the loss is to drive automated learning***.\n",
        "\n",
        "\n",
        "> Important: \"... focus on these metrics, rather than the loss, when judging the performance of a model.\"\n",
        "\n",
        "\n",
        "> Important: \"... the loss must be a function that has a meaningful derivative ... must be reasonably smooth [so] that [it] would respond to small changes in confidence level.\n",
        "\n",
        "\n",
        "The loss function is one that can be optimized using its gradient!"
      ]
    },
    {
      "cell_type": "markdown",
      "metadata": {
        "id": "qv7RlblLIwnn"
      },
      "source": [
        "### Step 4: Calculating the gradients\n",
        "\n",
        "> Important: \"the gradients ***tell us how much we have to change each weight*** to make our model better ... allows us to more quickly calculate whether our loss will go up or down we we make those adjustments\"\n",
        "\n",
        "\n",
        "\n",
        "> Important: \"The gradients ***tell us only the slope of our function***; they don't tell us exactly how far to adjust the parameters. But they do give us some idea of how far\" (large slope = bigger adjustments needed whereas a small slope suggests we are close to the optimal value)\n",
        "\n",
        "\n",
        "\"The ***derivative*** of a function tells you how much a change in its parameters will change its result\"\n",
        "\n",
        "Remember: We are calculating a gradient for *EVERY* weight so we know how to adjust it to make our model better (i.e., lower the LOSS)\n",
        "\n",
        "`requires_grad` tells PyTorch \"that we want to calculate gradients with respect to that variable at that value\""
      ]
    },
    {
      "cell_type": "code",
      "metadata": {
        "id": "BlKI_4ZWZWor"
      },
      "source": [
        "def plot_function(f, tx=None, ty=None, title=None, min=-2, max=2, figsize=(6,4)):\n",
        "    x = torch.linspace(min,max)\n",
        "    fig,ax = plt.subplots(figsize=figsize)\n",
        "    ax.plot(x,f(x))\n",
        "    if tx is not None: ax.set_xlabel(tx)\n",
        "    if ty is not None: ax.set_ylabel(ty)\n",
        "    if title is not None: ax.set_title(title)"
      ],
      "execution_count": null,
      "outputs": []
    },
    {
      "cell_type": "markdown",
      "metadata": {
        "id": "HRRz6Z39Z8_I"
      },
      "source": [
        "Here we pretend that the below is our **loss function**.  Running a number through it, our **weight** will produce a result, an **activation** ... in this case, our **loss** (which again is a value telling us how good or bad our model is; smaller = good)"
      ]
    },
    {
      "cell_type": "code",
      "metadata": {
        "id": "HjQCRo2eGVpA"
      },
      "source": [
        "xt = tensor(-1.5).requires_grad_(); xt"
      ],
      "execution_count": null,
      "outputs": []
    },
    {
      "cell_type": "code",
      "metadata": {
        "id": "RpWRqpteY6dJ"
      },
      "source": [
        "def f(x): return x**2\n",
        "loss = f(xt)\n",
        "\n",
        "plot_function(f, 'x', 'x**2')\n",
        "plt.scatter(xt.detach().numpy(), loss.detach().numpy(), color='red')\n",
        "print('Loss: ', loss.item())"
      ],
      "execution_count": null,
      "outputs": []
    },
    {
      "cell_type": "markdown",
      "metadata": {
        "id": "rrvb8INMbEIy"
      },
      "source": [
        "So if our parameter is `-1.5` we get a loss = `2.25`. Since the direction of our slope is downward (negative), by changing its value to be a bit more positive, we get closer to achieving our goal of *minimizing our loss*"
      ]
    },
    {
      "cell_type": "code",
      "metadata": {
        "id": "1Zb4dLlMcJMD"
      },
      "source": [
        "xt = tensor(-1.).requires_grad_(); xt\n",
        "\n",
        "loss = f(xt)\n",
        "\n",
        "plot_function(f, 'x', 'x**2')\n",
        "plt.scatter(xt.detach().numpy(), loss.detach().numpy(), color='red')\n",
        "print('Loss: ', loss.item())"
      ],
      "execution_count": null,
      "outputs": []
    },
    {
      "cell_type": "markdown",
      "metadata": {
        "id": "5HPZrsmdcd9x"
      },
      "source": [
        "And yes, our loss has improved!  If the direction of our slope were upwards (positive), we would conversely want `x` to be smaller."
      ]
    },
    {
      "cell_type": "markdown",
      "metadata": {
        "id": "DGv43ojRdVkE"
      },
      "source": [
        "***BUT*** now ... imagine having to figure all this out for a million parameters.  Obviously, we wouldn't want to try doing this manually as we did before, and thanks to PyTorch, we don't have too :)\n",
        "\n",
        "Remember that by utilizing the `requires_grad_()` function, we have told PyTorch to keep track of how to compute the gradients based on the other calucations we perform, like running it through our loss function above.  Let's see what that looks like."
      ]
    },
    {
      "cell_type": "code",
      "metadata": {
        "id": "l9YLALQ7dVR1"
      },
      "source": [
        "xt = tensor(-1.).requires_grad_(); \n",
        "print(xt)\n",
        "\n",
        "loss = f(xt)\n",
        "print(loss)"
      ],
      "execution_count": null,
      "outputs": []
    },
    {
      "cell_type": "markdown",
      "metadata": {
        "id": "rIgLnDoqeXUY"
      },
      "source": [
        "That `<PowBackward0>` is the gradient function it will use to calculate the gradients when needed.  And when we need it, we call the `backward` method to do so."
      ]
    },
    {
      "cell_type": "code",
      "metadata": {
        "id": "NA1tgKFzeh5d"
      },
      "source": [
        "loss.backward()\n",
        "print(xt.grad)"
      ],
      "execution_count": null,
      "outputs": []
    },
    {
      "cell_type": "markdown",
      "metadata": {
        "id": "pyCreCbhe2EP"
      },
      "source": [
        "And the calcuated gradient is exactly what we expected given that to calculate the derivate of `x**2` is `2x` ... `2*-1 = -2`.\n",
        "\n",
        "Again, the gradient tells us ***the slope of our function***.  Here have a a negative/downward slope and so at the very least, we know what moving in that direction will get us closer to the minimum.\n",
        "\n",
        "The question is now, **How far do we move in that direction?**"
      ]
    },
    {
      "cell_type": "markdown",
      "metadata": {
        "id": "N1RePernMIPn"
      },
      "source": [
        "---\n",
        "### Step 5: Change all the weights based on the gradient using a \"Learning Rate\"\n",
        "\n",
        "The **learning rate** (or LR) is a number (usually a small number like 1e-3 or 0.1) that we multiply the gradient by to get a better parameter value.  For a given parameter/weight `w`, the calculation looks like this:\n",
        "\n",
        "` w -= w.grad * lr`\n",
        "\n",
        "Notice we take the negative of the grad * lr operation because we want to move in the opposite direction.\n",
        "\n",
        "> Important: We do this in a `with torch.no_grad()` so that we don't calculate the gradient for the gradient calculating operation"
      ]
    },
    {
      "cell_type": "code",
      "metadata": {
        "id": "zpproXJdodrR"
      },
      "source": [
        "lr = 0.01\n",
        "\n",
        "with torch.no_grad():\n",
        " xt -= xt.grad * lr\n",
        "\n",
        " print('New value for xt: ', xt)\n",
        " print('New loss: ', f(xt))"
      ],
      "execution_count": null,
      "outputs": []
    },
    {
      "cell_type": "markdown",
      "metadata": {
        "id": "etZcxIkWoerO"
      },
      "source": [
        "You can see the loss get smaller which is exactly what we want!  \"The magnitude of the gradient (i.e., the steepness of the slope) [tells] us how big a step to take.\"\n",
        "\n",
        "The above operation is also called the **optimization step**\n",
        "\n",
        "See pp.156-157 for examples of what using a too small or too large LR might look like when training.  This could help you troubleshoot things if yours looks wonky."
      ]
    },
    {
      "cell_type": "markdown",
      "metadata": {
        "id": "LTKvbUUenaom"
      },
      "source": [
        "---\n",
        "### Datasets & DataLoaders\n",
        "\n",
        "\n",
        "\n",
        "\n"
      ]
    },
    {
      "cell_type": "markdown",
      "metadata": {
        "id": "BN0EZ3T1nq-V"
      },
      "source": [
        "A **Dataset** contains tuples of independent and dependent variables"
      ]
    },
    {
      "cell_type": "code",
      "metadata": {
        "id": "-9WU7lMIns5B"
      },
      "source": [
        "ds = L(enumerate(string.ascii_lowercase))\n",
        "ds"
      ],
      "execution_count": null,
      "outputs": []
    },
    {
      "cell_type": "markdown",
      "metadata": {
        "id": "YmSRb0BRnyKY"
      },
      "source": [
        "A **DataLoader** receives a dataset and gives us back as many *mini-batches* are necessary based on the *batch size* we specify"
      ]
    },
    {
      "cell_type": "code",
      "metadata": {
        "id": "AE4FiJo0oArl"
      },
      "source": [
        "dl = DataLoader(ds, bs=6, shuffle=True)\n",
        "list(dl)"
      ],
      "execution_count": null,
      "outputs": []
    },
    {
      "cell_type": "markdown",
      "metadata": {
        "id": "h2uxHGE5IK0a"
      },
      "source": [
        "---\n",
        "### Measuring distances\n",
        "\n",
        "See pp.141-142.  There are two main ways to measure distances.\n",
        "\n",
        "**L1 norm** (or mean absolute difference): Take the mean of the absolute value of differences\n",
        "\n",
        "` l1_loss = (tensor_a - tensor_b).abs().mean()`\n",
        "\n",
        "**L2 norm** (or root mean squared error, RMSE): Take the square root of the mean of the square differences. The squaring of differences makes everything positive and the square root undoes the squaring.\n",
        "\n",
        "> Important: \"... the latter will penalize bigger mistakes more heavily than the former (and be more lenient with small mistakes)\"\n",
        "\n",
        "\n",
        "` l2_loss = ((tensor_a - tensor_b) ** 2).sqrt()`\n",
        "\n",
        "\n",
        "\n",
        "\n"
      ]
    },
    {
      "cell_type": "markdown",
      "metadata": {
        "id": "r7ZF3BdAItCG"
      },
      "source": [
        "---\n",
        "### Important PyTorch Modules\n",
        "\n",
        "A **module** is a class that inherits from PyTorch's `nn.Module` class. \"Every PyTorch module knows that **parameters** it has that can be trained.\"\n",
        "\n",
        "Here are some key ones ...\n"
      ]
    },
    {
      "cell_type": "markdown",
      "metadata": {
        "id": "r58ZltSu7IK2"
      },
      "source": [
        "**nn.Linear**: Initializes its parameters and performs a linear operation.  It contains both the weights and biases in a single class"
      ]
    },
    {
      "cell_type": "code",
      "metadata": {
        "id": "hbKKnzAu7apS"
      },
      "source": [
        "lin1 = nn.Linear(28*28, 1)\n",
        "\n",
        "# the trainable parameters\n",
        "weights, bias = lin1.parameters()\n",
        "print(weights.shape, bias.shape)"
      ],
      "execution_count": null,
      "outputs": []
    },
    {
      "cell_type": "markdown",
      "metadata": {
        "id": "onTRIXF08vJm"
      },
      "source": [
        "**nn.ReLU**: Allows us to add a non-linearity between linear classifiers.  Simply put, it ensures that all activations passed to it are a positive number with every negative number replaced with a 0.  \n",
        "\n",
        "Notice below that it has no trainable parameters!"
      ]
    },
    {
      "cell_type": "code",
      "metadata": {
        "id": "NjHqHYiT96s_"
      },
      "source": [
        "plot_function(F.relu)"
      ],
      "execution_count": null,
      "outputs": []
    },
    {
      "cell_type": "code",
      "metadata": {
        "id": "EFwEINU48X5b"
      },
      "source": [
        "non_lin1 = nn.ReLU()\n",
        "print(list(non_lin1.parameters()))\n",
        "\n",
        "print('using nn.ReLU: ', non_lin1(tensor(-1)), non_lin1(tensor(4)))\n",
        "print('using max()', tensor(-1).max(tensor(0.0)), tensor(4).max(tensor(0.0)))"
      ],
      "execution_count": null,
      "outputs": []
    },
    {
      "cell_type": "markdown",
      "metadata": {
        "id": "qTwkZarZ-Baj"
      },
      "source": [
        "**Why do you want to have non-linearities?**\n",
        "\n",
        "> Because \"there's no point in just putting one linear layout directly after another one, because when we multiply things together and then add them up multiple times, that could be replaced by multiplying different things together and adding them up just once .... BUT if we put a non-linear between them ... this is no longer true. ***Now each linear layer is somewhat decoupled from the other ones and can do its own useful work***.\"\n",
        "\n",
        "These kind of functions are also called **\"activation functions\"**, because the only operate and produce activations ... there are no trainable parameters.\n"
      ]
    },
    {
      "cell_type": "markdown",
      "metadata": {
        "id": "Jdu_z1l-_CzS"
      },
      "source": [
        "**nn.Sequential**: A module that can be passed modules, which when called, calls each of those layers in turn."
      ]
    },
    {
      "cell_type": "code",
      "metadata": {
        "id": "LgU1UAUd_eni"
      },
      "source": [
        "lin2 = nn.Linear(1, 10)\n",
        "seq_model = nn.Sequential(lin1, non_lin1, lin2)\n",
        "\n",
        "seq_params = list(seq_model.parameters())\n",
        "print(len(seq_params))\n",
        "\n",
        "for p in seq_params: print(p.shape)"
      ],
      "execution_count": null,
      "outputs": []
    },
    {
      "cell_type": "markdown",
      "metadata": {
        "id": "0bC4j3qRALdL"
      },
      "source": [
        "Why `4`?  Simple, remember that each `nn.Linear` above has two trainable parameters (the weights and bias), 2+2 = 4."
      ]
    },
    {
      "cell_type": "markdown",
      "metadata": {
        "id": "GZoR3dj_Tu6C"
      },
      "source": [
        "---\n",
        "### Summary\n",
        "\n",
        "This chapter walks you through creating a baseline model to a full blown training loop in PyTorch. ***Read it, and read it again and again!*** (I do and have).\n",
        "\n",
        "**Important Vocb/Concepts**\n",
        "\n",
        "*Activations*: Numbers that are calculated by both linear and non-linear layers\n",
        "\n",
        "*Parameters*: Randomly initialized parameters that can be trained.\n",
        "\n",
        "*Neural Network*: A chain of linear and non-linear functions your data runs through to produce a result.\n",
        "\n",
        "*Gradient*: \"The derivative of the loss with respect to some parameter of the model\"\n",
        "\n",
        "*Backpropagation*: The computing of the gradients \"of the loss with respect to all model parameters\"\n",
        "\n",
        "*Gradient Descent*: \"Taking a step in the direction opposite to the gradients to make the model parameters a little bit better\"\n"
      ]
    },
    {
      "cell_type": "markdown",
      "metadata": {
        "id": "PSwEOzDpHHBj"
      },
      "source": [
        "---\n",
        "\n",
        "## Resources\n",
        "\n",
        "1. https://book.fast.ai - The book's website; it's updated regularly with new content and recommendations from everything to GPUs to use, how to run things locally and on the cloud, etc...\n"
      ]
    },
    {
      "cell_type": "code",
      "metadata": {
        "id": "B2wEfmj5CLA8"
      },
      "source": [
        ""
      ],
      "execution_count": null,
      "outputs": []
    }
  ]
}