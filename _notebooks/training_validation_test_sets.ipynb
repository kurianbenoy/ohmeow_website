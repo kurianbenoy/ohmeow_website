{
  "nbformat": 4,
  "nbformat_minor": 0,
  "metadata": {
    "colab": {
      "name": "training-validation-test-sets.ipynb",
      "private_outputs": true,
      "provenance": [],
      "collapsed_sections": [],
      "authorship_tag": "ABX9TyNWxzXFLTwP49IvzDqjLDob"
    },
    "kernelspec": {
      "name": "python3",
      "display_name": "Python 3"
    }
  },
  "cells": [
    {
      "cell_type": "markdown",
      "metadata": {
        "id": "sWJL4-Qwluy4"
      },
      "source": [
        "# \"What are the differences between training, validation, and test datasets\"\n",
        "> \"Insights from [\\\"Deep Learning for Coders with fastai & PyTorch\\\"](https://github.com/fastai/fastbook) and from around the world\"\n",
        "\n",
        "- toc: true\n",
        "- branch: master\n",
        "- badges: true\n",
        "- hide_binder_badge: true\n",
        "- comments: true\n",
        "- author: Wayde Gilliam\n",
        "- categories: [fastai, fastbook, what-is, how-to, training, validation, test]\n",
        "- image: images/articles/train-validation-test-sets.png\n",
        "- hide: false\n",
        "- search_exclude: false\n",
        "- permalink: /what-is/training-validation-test-sets"
      ]
    },
    {
      "cell_type": "markdown",
      "metadata": {
        "id": "nilyL8K728RC"
      },
      "source": [
        "Here we look at the differences between training, validation, and test sets, and also both strategies and best practices for building each."
      ]
    },
    {
      "cell_type": "markdown",
      "metadata": {
        "id": "Ka023QwyrNF-"
      },
      "source": [
        "---\n",
        "## What is a training set?\n",
        "\n",
        "A ***training set*** consits of the data your model sees during training. These are the inputs and labels your model will use to determine the loss and update it's parameters in a way that will hopefully lead to a model that works well for its given task.\n",
        "\n",
        "\n",
        "### Why do we need a training set?\n",
        "\n",
        "Because a model needs something to train on. It should be representative of the data the model will see in the future, and it should be updated if/when you discover that is not the case.\n",
        "\n",
        "\n",
        "### How to use a training set?\n",
        "\n",
        "1. To train a model on examples resembling that which the model will seen in the future. More is generally better, but quality is king (e.g., bad data in, bad data out)."
      ]
    },
    {
      "cell_type": "markdown",
      "metadata": {
        "id": "ndpKR-FZolXP"
      },
      "source": [
        "---\n",
        "## What is a validation set?\n",
        "\n",
        "A ***validation set*** (also know as the \"development set\") does not include any data from the ***training set***.  It's purpose to is gauge the generalization prowess of your model and also ensure you are neight overfitting or underfitting.\n",
        "\n",
        "> \"If [the model] makes an accurate prediction for a data item, that should be because it has learned characteristics of that kind of item, and not because the model has been shaped by *actually having seen that particular item*.\" {% fn1 %}\n",
        "\n",
        "### Why do we need a validation set?\n",
        "\n",
        "> \"[because] what we care about is how well our model works on *previously unseen images* ... the longer\n",
        "> you train for, the better your accuracy will get on the training set ... as the model starts to memorize\n",
        "> the training set rather than finding generalizable underlying patterns in the data = **overfitting**\" {% fn2 %}\n",
        "\n",
        "![](https://raw.githubusercontent.com/fastai/fastbook/41a60e44d588139a03452f1907359fc2322f8d5f/images/att_00000.png)\n",
        "\n",
        "***Overfitting*** happens when the model \"remembers specific features of the input data, rather than generalizing well to data not seen during training.\" {% fn3 %}\n",
        "\n",
        "\n",
        "> Note: **ALWAYS** overfit before anything else.  It is your training loss gets better while your validation loss gets worse ... in other words, if you're validation loss is improving, even if not to the extent of your training loss, you are *not* overfitting\n",
        "\n",
        "\n",
        "> Note: **ALWAYS** include a validation set.\n",
        "\n",
        "\n",
        "> Note: **ALWAYS** use the validation set to measure your accuracy (or any metrics).\n",
        "\n",
        "\n",
        "> Note: **ALWAYS** set the `seed` parameter so that you \"get the same validation set every time\" so that \"if we change our model and retrain it, we know any differences are due to the changes to the model, not due to having a different random validation set.\" {% fn3 %}.  \n",
        "\n",
        "\n",
        "> Tip: For a good discussion of how to achieve predictable randomness, see [this discussion](https://forums.fast.ai/t/lesson1-reproducible-results-setting-seed-not-working/37921/5) on the fast.ai forums. There are actually several seeds you need to set and in several places when using fast.ai to achieve reproducibility.\n",
        "\n",
        "\n",
        "### How to use a validation set?\n",
        "\n",
        "1. It gives us a sense of how well our model is doing on examples *it hasn't seen*, which makes sense since the ultimate worth of a model is in how well it generalizes to things unseen in the future.\n",
        "\n",
        "2. The validation set also informs us how we may change the  ***hyperparamters*** (e.g., model architecture, learning rates, data augmentation, etc...) to improve results.  These parameters are NOT learned ... they are choices WE make that affect the learning of the model parameters. {% fn4 %}"
      ]
    },
    {
      "cell_type": "markdown",
      "metadata": {
        "id": "2LNWo38tpWrF"
      },
      "source": [
        "---\n",
        "## What is a test set?\n",
        "\n",
        "A ***test set*** ensures that we aren't overfitting our hyperparameter choices; it is held back even from ourselves and used to evaulate the model at the very end.\n",
        "\n",
        "> \"[Since we] are evaluating the model by looking at predictions on the validation data when we decide to explore new hyperparameter values ... subsequent version of the model are, indirectly, shaped by us having seen the validation data ... [and therefore], we are in danger of overfitting the validation data through human trial and error and exploration.\" {% fn5 %}\n",
        "\n",
        "\n",
        "> Note: A key property of the validation and test sets is that they must be representative of the new data you will see in the future.\n",
        "\n",
        "\n",
        "### Why do we need a test set?\n",
        "\n",
        "To ensure we aren't inadvertently causing the model to overfit via our hyperparameter tuning which happens as a result of us looking at the validation set. It is a completely hidden dataset; it isn't used for training or tuning, only for measuring performance.\n",
        "\n",
        "\n",
        "### How to use a test set?\n",
        "\n",
        "1. If evaluating 3rd party solutions. You'll want to know how to create a good test set and how to create a good baseline model.  Hold these out from the potential consultants and use them to fairly evaluate their work.\n",
        "\n",
        "2. To ensure you aren't overfitting your model as a result of validation set examination. As with the validation set, a good test set offers further assurance your model isn't learning particular ancillary features of particular things in your images."
      ]
    },
    {
      "cell_type": "markdown",
      "metadata": {
        "id": "wOT7k_ncy5Nj"
      },
      "source": [
        "---\n",
        "## How to create good validation and test sets\n",
        "\n",
        "It isn't always as easy as randomly shuffling your data!\n",
        "\n",
        "Again, what both of these sets should haven in common is that they \"must be representative of the new data you will see in the future.\"  And what this looks like often dependes on your use case and task. \n",
        "\n",
        "\n",
        "> Tip: You really need to think about what you need to predict and what you'd look at to make that prediction. You also need to make sure your training data is qualitatively different enough from your real world data (e.g., what the validation and test sets represent) as to learn patterns and not specific examples.\n",
        "\n",
        "\n",
        "**First**, consider cases where historical data is required to predict the future, for example of quant traders use \"*backtesting* to check whether their models are predictive of future periods, based on past data\" {% fn6 %}\n",
        "\n",
        "\n",
        "> Note: \"For a **time series** ... (where you are using historical data to build a model for use in the future ... you will want to choose a continuous section with the latest dates as your validation set\" {% fn7 %}\n",
        "\n",
        "\n",
        "\"A **second** common case occurs when you can easily anticipate ways the data you will be making predictions for in production may be *qualitatively different* from the data you have to train your model with.\" {% fn8 %}\n",
        "\n",
        "As an example of this, [the Kaggle distracted driver competition](https://www.kaggle.com/c/state-farm-distracted-driver-detection) is used. In it, based on pictures of drivers you need to predict categories of distraction. Since the goal of such a model would be to make good predictions against ***drivers the model hasn't seen***, it would make sense to create a validation and also a test set consiting of specific drivers the training set doesn't include (in fact, the competition's test set is exactly that!). \"If you used all the people in training your model, your model might be overfitting to the paricipants of those specific people and not just learning the states (texting, eating, etc.).\" {% fn9 %}\n",
        "\n",
        "Another example of this is [the Kaggle fisheries competition](https://www.kaggle.com/c/the-nature-conservancy-fisheries-monitoring) where the objective is to predict the species of fish caught on fishing boats. As the goal of such a model is to predict the species on other/future boats, it makes sense then that \"the test set consisted of images from boats that didn't appear in the training data, so in this case you'd want your validation set to also include boats that are not in the training set.\" {% fn10 %}\n",
        "\n",
        "\n",
        "> Tip: Start with training a model and let the results guide your EDA!\n",
        "\n"
      ]
    },
    {
      "cell_type": "markdown",
      "metadata": {
        "id": "LKAQxMmyx8OB"
      },
      "source": [
        "---\n",
        "{{ '\"Chaper 1: Your Deep Learning Journey\". In *[The Fastbook](https://www.amazon.com/Deep-Learning-Coders-fastai-PyTorch/dp/1492045527)* p.49' | fndetail: 1 }}\n",
        "\n",
        "{{ 'Ibid., p.29' | fndetail: 2 }}\n",
        "\n",
        "{{ 'Ibid' | fndetail: 3 }}\n",
        "\n",
        "{{ 'Ibid., p.49' | fndetail: 4 }}\n",
        "\n",
        "{{ 'Ibid.' | fndetail: 5 }}\n",
        "\n",
        "{{ 'Ibid., p.53' | fndetail: 6 }}\n",
        "\n",
        "{{ 'Ibid., p.51. There are some really good illustraions on pp.51 and 52 with some follow-up intutition on page 53 wrt to time series splits' | fndetail: 7 }}\n",
        "\n",
        "{{ 'Ibid., p.53' | fndetail: 8 }}\n",
        "\n",
        "{{ 'Ibid.' | fndetail: 9 }}\n",
        "\n",
        "{{ 'Ibid. pp.53-54' | fndetail: 9 }}\n"
      ]
    },
    {
      "cell_type": "code",
      "metadata": {
        "id": "wtch8hC7uPk2"
      },
      "source": [
        ""
      ],
      "execution_count": null,
      "outputs": []
    }
  ]
}