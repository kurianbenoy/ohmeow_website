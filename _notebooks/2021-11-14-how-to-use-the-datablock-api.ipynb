{
  "nbformat": 4,
  "nbformat_minor": 0,
  "metadata": {
    "colab": {
      "name": "how-to-use-the-datablock-api.ipynb",
      "provenance": [],
      "collapsed_sections": [],
      "authorship_tag": "ABX9TyP1eoVMScBL+IAIFJnKdtAN"
    },
    "kernelspec": {
      "name": "python3",
      "display_name": "Python 3"
    },
    "accelerator": "GPU"
  },
  "cells": [
    {
      "cell_type": "markdown",
      "metadata": {
        "id": "sWJL4-Qwluy4"
      },
      "source": [
        "# \"How to use the DataBlock API\"\n",
        "> \"Insights from [\\\"Deep Learning for Coders with fastai & PyTorch\\\"](https://github.com/fastai/fastbook) and from around the world\"\n",
        "\n",
        "- toc: true\n",
        "- branch: master\n",
        "- badges: true\n",
        "- hide_binder_badge: true\n",
        "- comments: true\n",
        "- author: Wayde Gilliam\n",
        "- categories: [fastai, fastbook, fastbook chapter 2, how to, data, datablock api]\n",
        "- image: images/articles/datablock-api.jpeg\n",
        "- hide: false\n",
        "- search_exclude: false\n",
        "- permalink: /how-to/use-the-datablock-api"
      ]
    },
    {
      "cell_type": "code",
      "metadata": {
        "id": "QLRXSFoNZrZo"
      },
      "source": [
        "#hide\n",
        "! pip install fastai -Uqq"
      ],
      "execution_count": null,
      "outputs": []
    },
    {
      "cell_type": "markdown",
      "metadata": {
        "id": "nilyL8K728RC"
      },
      "source": [
        "The **DataBlock API** represents fastai's hig-level approach for building **DataLoader**s from your raw data sources. It is a resuable blueprint for how data is used both during model training and at inference time, and along with the fastai callback system, it represents one of the core pieces of the fastai framework.\n",
        "\n",
        "\"**... a `DataBlock object` ... is like a template for creating a `DataLoaders` object**\" {% fn 1 %}\n",
        "\n",
        "\"A `DataLoader` is a class that provides batches of a few items at a time to the GPU\" {% fn 3 %}"
      ]
    },
    {
      "cell_type": "markdown",
      "metadata": {
        "id": "Ka023QwyrNF-"
      },
      "source": [
        "---\n",
        "## Defining your \"blueprint\" using the DataBlock API\n",
        "\n",
        "There are **four** things you need to specify to make your data usable for training (e.g., to build at minimum a training and validation `DataLoader`). {% fn 2 %}\n",
        "\n",
        "1. What **kind of data** you are working with\n",
        "2. How to **get** the data\n",
        "3. How to **label** the data\n",
        "4. How to **create a validation set**\n",
        "\n",
        "Here's an example of how this is done with the `DataBlock API`:\n",
        "\n",
        "```\n",
        "d_block = DataBlock(\n",
        "  blocks=(ImageBlock, CategoryBlock),              #=> our independent and dependent variable datatypes\n",
        "  get_items=get_image_files,                       #=> how to get our data\n",
        "  splitter=RandomSplitter(valid_pct=0.2, seed=42), #=> how to create the validation set\n",
        "  get_y=parent_label,                              #=> how to label our data\n",
        "  item_tfms=Resize(128)                            #=> code that runs against each item as it is fetched\n",
        "```\n",
        "\n",
        "\n",
        "> Tip: Use the `seed` argument to ensure you get the same training/validation set each time you run that code; else you won't be able to know if, as you change hyperparameter values, your model performance changed because of those values and/or because of difference in your training/validation sets!\n",
        "\n",
        "\n",
        "> Note: To ensure reproducibility in your fastai training, follow the tips/tricks laid out in the [Reproducibility: Where is the randomness coming in?](https://forums.fast.ai/t/solved-reproducibility-where-is-the-randomness-coming-in/31628) forum post.\n",
        "\n",
        "\n",
        "\n",
        "\n"
      ]
    },
    {
      "cell_type": "markdown",
      "metadata": {
        "id": "XjFLBaQFwb8x"
      },
      "source": [
        "---\n",
        "## Using your \"blueprint\" to build your `DataLoaders`\n",
        "\n",
        "Once you've defined your blueprint for how to get your modelable data (i.e., your `DataLoaders`), you need to pass it the \"actual source\" of your data, which can be a path or a DataFrame or whatever.\n",
        "```\n",
        "dls = d_block.dataloaders(path)\n",
        "```\n",
        "\n",
        "\n",
        "> Note: Use `dls.show_batch(...)` or `dls.valid.show_batch(...)` to visualize your training/validation data."
      ]
    },
    {
      "cell_type": "markdown",
      "metadata": {
        "id": "ZmnDqRyryG7D"
      },
      "source": [
        "---\n",
        "## Transforms\n",
        "\n",
        "The DataBlock API relies heavily on the use of fastai **transforms**. They are used in the `blocks` you see above as well as inline, as you'll see below.  \n",
        "\n",
        "### What is a \"Transform\"?\n",
        "\n",
        "A ***Transform*** contains code that is applied automatically during training.\n",
        "\n",
        "### What kinds of transforms are there?\n",
        "\n",
        "There are **two** kinds of transforms:\n",
        "\n",
        "**Item Transforms**: Applied to each individual item in your dataset, they are applied to an item from your dataset when it is fetched.\n",
        "\n",
        "\n",
        "> Note: Use the `item_tfms` argument to define your batch transforms. It is more technically correct to think of them as your *after batch* transforms since that is whey they are applied\n",
        "\n",
        "\n",
        "**Batch Transforms**: Applied to a *batch of items* using the GPU, they are applied to a collection of items on the GPU *after* they have been collated into the same shape.\n",
        "\n",
        "\n",
        "> Note: Use the `batch_tfms` argument to define your batch transforms. It is more technically correct to think of them as your *after batch* transforms since that is whey they are applied\n",
        "\n",
        "\n",
        "An example:\n",
        "```\n",
        "d_block = d_block.new(item_tfms=RandomResizedCrop(128, min_scale=0.3), batch_tfms=aug_transforms(mult=2))\n",
        "```\n",
        "\n",
        "\n",
        "> Note: `aug_transforms` are \"a standard set of augmentations that we have found work pretty well\"\n",
        "\n",
        "\n",
        "\n",
        "### When should I use an **item transform**?\n",
        "\n",
        "TODO\n",
        "\n",
        "### When should I use a **batch transform**?\n",
        "\n",
        "#### Data augmentation\n",
        "\n",
        "**Data augmentation** transorms (e.g., rotation, flipping, perspective warping, brightness changes, contrast changes, etc...) are defined as **batch transforms** and run on the GPU.\n",
        "\n"
      ]
    },
    {
      "cell_type": "markdown",
      "metadata": {
        "id": "Dotf8frGxCMT"
      },
      "source": [
        "---\n",
        "## Tips & Tricks\n",
        "\n",
        "### Changing your transforms without having to redefine your DataBlock from scratch\n",
        "\n",
        "You can change the transforms in your DataBlock by reusing an existing DataBlock via `d_block.new`.\n",
        "\n",
        "```\n",
        "d_block = d_block.new(item_tfms=Resize(128, ResizeMethod.squish))\n",
        "dls = d_block.dataloaders(path)\n",
        "...\n",
        "d_block = d_block.new(item_tfms=Resize(128, ResizeMethod.Pad, pad_mode='zeroes'))\n",
        "dls = d_block.dataloaders(path)\n",
        "...\n",
        "```\n",
        "\n"
      ]
    },
    {
      "cell_type": "markdown",
      "metadata": {
        "id": "QSfpK6qGwCPQ"
      },
      "source": [
        "---\n",
        "## Resources for learning the DataBlock API\n",
        "\n",
        "For more detailed discussion of the DataBlock API, see the following resources:\n",
        "\n",
        "1. My article [\"Finding DataBlock Nirvana with fast.ai v2 - Part 1\"](https://ohmeow.com/posts/2020/04/11/finding-datablock-nirvana-part-1.html)\n",
        "\n",
        "2. The [\"Walk with fastai2\" videos](https://forums.fast.ai/t/a-walk-with-fastai2-vision-study-group-and-online-lectures-megathread/59929)\n",
        "\n",
        "3. The [fastai docs](https://docs.fast.ai/data.block) and the [DataBlock Tutorials](https://docs.fast.ai/tutorial.datablock)"
      ]
    },
    {
      "cell_type": "markdown",
      "metadata": {
        "id": "LKAQxMmyx8OB"
      },
      "source": [
        "---\n",
        "{{ '\"Chaper 2: From Model to Production\". In *[The Fastbook](https://www.amazon.com/Deep-Learning-Coders-fastai-PyTorch/dp/1492045527)* p.72' | fndetail: 1 }}\n",
        "\n",
        "{{ 'Ibid.' | fndetail: 3 }}\n",
        "\n",
        "{{ 'Ibid., pp.70-74 provide more detail and details on using the DataBlock API for a multiclassification computer vision task' | fndetail: 2 }}"
      ]
    },
    {
      "cell_type": "code",
      "metadata": {
        "id": "wtch8hC7uPk2"
      },
      "source": [
        ""
      ],
      "execution_count": null,
      "outputs": []
    }
  ]
}