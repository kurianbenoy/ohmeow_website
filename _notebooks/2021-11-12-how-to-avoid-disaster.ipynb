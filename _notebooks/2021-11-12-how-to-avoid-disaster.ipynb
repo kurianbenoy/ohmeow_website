{
  "nbformat": 4,
  "nbformat_minor": 0,
  "metadata": {
    "colab": {
      "name": "resnet.ipynb",
      "provenance": [],
      "collapsed_sections": [],
      "authorship_tag": "ABX9TyPjiYJ9u0vtXN6G535Ehq/Z"
    },
    "kernelspec": {
      "name": "python3",
      "display_name": "Python 3"
    },
    "accelerator": "GPU"
  },
  "cells": [
    {
      "cell_type": "markdown",
      "metadata": {
        "id": "sWJL4-Qwluy4"
      },
      "source": [
        "# \"How to avoid disaster\"\n",
        "> \"Insights from [\\\"Deep Learning for Coders with fastai & PyTorch\\\"](https://github.com/fastai/fastbook) and from around the world\"\n",
        "\n",
        "- toc: true\n",
        "- branch: master\n",
        "- badges: true\n",
        "- hide_binder_badge: true\n",
        "- comments: true\n",
        "- author: Wayde Gilliam\n",
        "- categories: [fastai, fastbook, fastbook chapter 2, how to, project management]\n",
        "- image: images/articles/avoid-disaster-steps.png\n",
        "- hide: false\n",
        "- search_exclude: false\n",
        "- permalink: /how-to/avoid-disaster"
      ]
    },
    {
      "cell_type": "code",
      "metadata": {
        "colab": {
          "base_uri": "https://localhost:8080/"
        },
        "id": "QLRXSFoNZrZo",
        "outputId": "9ac00b21-d318-4aca-f5fd-858f33df4f0d"
      },
      "source": [
        "#hide\n",
        "! pip install fastai -Uqq"
      ],
      "execution_count": null,
      "outputs": [
        {
          "output_type": "stream",
          "name": "stdout",
          "text": [
            "\u001b[K     |████████████████████████████████| 189 kB 5.6 MB/s \n",
            "\u001b[K     |████████████████████████████████| 56 kB 3.4 MB/s \n",
            "\u001b[?25h"
          ]
        }
      ]
    },
    {
      "cell_type": "markdown",
      "metadata": {
        "id": "nilyL8K728RC"
      },
      "source": [
        "---\n",
        "## How to Avoid Disaster \n",
        "{% fn 1 %}\n",
        "\n",
        "\n",
        "> Important: Your model is only as good as the data it was trained on\n",
        "\n",
        "\n",
        "\n",
        "Two problems to watch out for:\n",
        "\n",
        "1. **out-of-domain data**: \"data that our model sees in production that is very different to wath it saw during training.\n",
        "2. **domain shift**: \"whereby the type of data that our model sees changes over time.\"\n",
        "\n",
        "Mitigation steps:\n",
        "\n",
        "![](https://raw.githubusercontent.com/ohmeow/ohmeow_website/master/images/articles/avoid-disaster-steps.png)\n",
        "\n",
        "\"Where possible, the **first step** is to use an entirely manual process with your model running in parallel and not being used to directly drive any actions.\"\n",
        "\n",
        "\"The **second step** is to try and limit the scop of the model.\"\n",
        "\n",
        "\"The **third step** is to gradually increase the scope of your rollout.\"\n",
        "\n",
        "\n",
        "> Tip: \"Try to think about all the ways in which your system could go wrong, and then think about what measure or report or picture could reflect that problem, and ensure that your regular reporting includes that information.\"\n",
        "\n",
        "\n",
        "> Note: Defining good validation and tests sets are part of the solution. See my \"[How to create good validation and test sets](https://ohmeow.com/what-is/training-validation-test-sets#How-to-create-good-validation-and-test-sets)\" for more details."
      ]
    },
    {
      "cell_type": "markdown",
      "metadata": {
        "id": "LKAQxMmyx8OB"
      },
      "source": [
        "---\n",
        "{{ '\"Chaper 2: From Model to Production\". In *[The Fastbook](https://www.amazon.com/Deep-Learning-Coders-fastai-PyTorch/dp/1492045527)* pp.86-90 provides even more detail and is worth a thorough read' | fndetail: 1 }}"
      ]
    },
    {
      "cell_type": "code",
      "metadata": {
        "id": "wtch8hC7uPk2"
      },
      "source": [
        ""
      ],
      "execution_count": null,
      "outputs": []
    }
  ]
}