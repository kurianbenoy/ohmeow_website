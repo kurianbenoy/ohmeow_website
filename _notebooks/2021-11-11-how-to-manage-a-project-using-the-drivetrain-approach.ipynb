{
  "nbformat": 4,
  "nbformat_minor": 0,
  "metadata": {
    "colab": {
      "name": "resnet.ipynb",
      "provenance": [],
      "collapsed_sections": [],
      "authorship_tag": "ABX9TyPmuYNdRcKGwoYzkm7azpzU"
    },
    "kernelspec": {
      "name": "python3",
      "display_name": "Python 3"
    },
    "accelerator": "GPU"
  },
  "cells": [
    {
      "cell_type": "markdown",
      "metadata": {
        "id": "sWJL4-Qwluy4"
      },
      "source": [
        "# \"How to manage an ML project using the Drivetrain approach\"\n",
        "> \"Insights from [\\\"Deep Learning for Coders with fastai & PyTorch\\\"](https://github.com/fastai/fastbook) and from around the world\"\n",
        "\n",
        "- toc: true\n",
        "- branch: master\n",
        "- badges: true\n",
        "- hide_binder_badge: true\n",
        "- comments: true\n",
        "- author: Wayde Gilliam\n",
        "- categories: [fastai, fastbook, fastbook chapter 2, how to, project management]\n",
        "- image: images/articles/drivetrain-approach.png\n",
        "- hide: false\n",
        "- search_exclude: false\n",
        "- permalink: /how-to/manage-a-project-using-the-drivetrain-approach"
      ]
    },
    {
      "cell_type": "code",
      "metadata": {
        "colab": {
          "base_uri": "https://localhost:8080/"
        },
        "id": "QLRXSFoNZrZo",
        "outputId": "9ac00b21-d318-4aca-f5fd-858f33df4f0d"
      },
      "source": [
        "#hide\n",
        "! pip install fastai -Uqq"
      ],
      "execution_count": null,
      "outputs": [
        {
          "output_type": "stream",
          "name": "stdout",
          "text": [
            "\u001b[K     |████████████████████████████████| 189 kB 5.6 MB/s \n",
            "\u001b[K     |████████████████████████████████| 56 kB 3.4 MB/s \n",
            "\u001b[?25h"
          ]
        }
      ]
    },
    {
      "cell_type": "markdown",
      "metadata": {
        "id": "nilyL8K728RC"
      },
      "source": [
        "---\n",
        "## Starting Your Project\n",
        "\n",
        "### Things to think about when deciding on project feasibility\n",
        "\n",
        "\"When selecting a project, the most important consideration is data availability.\" {% fn 1 %} If you don't have enough quality data ... good luck :)\n",
        "\n",
        "\n",
        "> Tip: Consider that **data augmentation** can alleviate both the need for more manual labelling and also protect you from problems with *out-of-domain* data (e.g. when unexpected image types arise in the data when the model is being used in production) by synthetically creating more data likely to be seen that may not be in your dataset as is.\n",
        "\n",
        "\n",
        "> Note: \"... iterate from end to end in your project; don't spend months fine-tuning your model, or polishing the perfect GUI, or labeling the perfect dataset\"\n",
        "{% fn 2 %}\n",
        "\n",
        "\n",
        "This is good advice for *any* software project ...***fail early and fail often***. If you don't, you're likely to only uncover critical problems much later than you would have before, and even worse, you're likely to not produce anything at all! In the world of deep learning there are a number of tools, that while helpful, can really get you so bogged down that you never deploy something usable (e.g., experiment tracking tools, hyperparameter optimization libraries, etc...). \n",
        "\n",
        "Also, remember that getting something in production is a different task from winning a kaggle competition, where the later may require use of some of those aforementioned tools and the ensembling of dozens of models. ***For production, something better than human is often good enough to get out there and through refactoring, improve.***"
      ]
    },
    {
      "cell_type": "markdown",
      "metadata": {
        "id": "Ka023QwyrNF-"
      },
      "source": [
        "---\n",
        "## The Drivetrain Approach {% fn 3 %}\n",
        "\n",
        "![](https://raw.githubusercontent.com/ohmeow/ohmeow_website/master/images/articles/drivetrain-approach.png)\n",
        "\n",
        "### Four Steps\n",
        "\n",
        "#### Step 1: Define your objective(s)\n",
        "\n",
        "It's amazing how in my 20+ years as a developer, how rare it is that a customer is able to clearly define what they want! In my experience, more than not, it is the developers that end up defining the goals. Not having a clear objective is likely to waste time, energy, and money to produce something that won't even see the light of day.  ***You can't gauge the completion or quality of any software project without clear objective(s).***\n",
        "\n",
        "Ex.1: Show most relevant search results.  \n",
        "Ex.2: Drive additional sales by recommending to customers items to purchase they otherwise wouldn't\n",
        "\n",
        "#### Step 2: What actions can you take to achieve those objective(s)?\n",
        "\n",
        "What things can make your goals a reality. Pretty simple.\n",
        "\n",
        "Ex.1: Ranking the search results will help show the most relevants ones first.  \n",
        "Ex.2: Ranking the recommendations will help.\n",
        "\n",
        "#### Step 3: What data is needed to take those actions?\n",
        "\n",
        "If you don't have the data, you'll need to get it ... because the data pulls the levers which get you closer to your objective(s).\n",
        "\n",
        "Ex.1: Seeing what how pages linked to other pages.  \n",
        "Ex.2: Collecting data on what customers purchased, what was recommended, and what they did with that info.\n",
        "\n",
        "#### Step 4: Build models\n",
        "\n",
        "Only once you have the data and know what actions you want to be able to take based on the information within it, do you being modeling ... first, defining what models you can even build with that data and second, what data you need to collect for models you can't.\n",
        "\n",
        "Ex.1: A model that takes the page relation data and predicts a ranking given a query.  \n",
        "Ex.2: Two models that predict the purchasing proabilities conditional on seeing or not seeing a recommendation.\n"
      ]
    },
    {
      "cell_type": "markdown",
      "metadata": {
        "id": "LKAQxMmyx8OB"
      },
      "source": [
        "---\n",
        "{{ '\"Chaper 2: From Model to Production\". In *[The Fastbook](https://www.amazon.com/Deep-Learning-Coders-fastai-PyTorch/dp/1492045527)* p.58' | fndetail: 1 }}\n",
        "\n",
        "{{ 'Ibid.' | fndetail: 2 }}\n",
        "\n",
        "{{ 'Ibid. pp.64-65' | fndetail: 3 }}"
      ]
    },
    {
      "cell_type": "code",
      "metadata": {
        "id": "wtch8hC7uPk2"
      },
      "source": [
        ""
      ],
      "execution_count": null,
      "outputs": []
    }
  ]
}